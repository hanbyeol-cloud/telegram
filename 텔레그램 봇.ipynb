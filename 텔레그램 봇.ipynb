{
 "cells": [
  {
   "cell_type": "code",
   "execution_count": 1,
   "metadata": {},
   "outputs": [],
   "source": [
    "import telegram\n",
    "#from telegram import PhotoSize"
   ]
  },
  {
   "cell_type": "code",
   "execution_count": 2,
   "metadata": {},
   "outputs": [],
   "source": [
    "bot = telegram.Bot(token='1854272659:AAHvLiFo6ecRABj0Kb7Wk6NEkCeqnO9RaMQ')\n",
    "chat_id = -1001360431691\n",
    "# chat_id = '@bigdata_classDRV5vTe0Ppw4MDI1'\n",
    "\n",
    "#bot.sendMessage(chat_id=chat_id, text=\"I`M BOT\")"
   ]
  },
  {
   "cell_type": "code",
   "execution_count": null,
   "metadata": {},
   "outputs": [
    {
     "name": "stdout",
     "output_type": "stream",
     "text": [
      "start telegram chat bot\n"
     ]
    },
    {
     "name": "stderr",
     "output_type": "stream",
     "text": [
      "Error while getting Updates: Conflict: terminated by other getUpdates request; make sure that only one bot instance is running\n",
      "No error handlers are registered, logging exception.\n",
      "Traceback (most recent call last):\n",
      "  File \"C:\\Users\\Han Byeol\\anaconda3\\lib\\site-packages\\telegram\\ext\\updater.py\", line 520, in _network_loop_retry\n",
      "    if not action_cb():\n",
      "  File \"C:\\Users\\Han Byeol\\anaconda3\\lib\\site-packages\\telegram\\ext\\updater.py\", line 471, in polling_action_cb\n",
      "    updates = self.bot.get_updates(\n",
      "  File \"C:\\Users\\Han Byeol\\anaconda3\\lib\\site-packages\\telegram\\bot.py\", line 127, in decorator\n",
      "    result = func(*args, **kwargs)\n",
      "  File \"C:\\Users\\Han Byeol\\anaconda3\\lib\\site-packages\\telegram\\bot.py\", line 2761, in get_updates\n",
      "    result = self._post(\n",
      "  File \"C:\\Users\\Han Byeol\\anaconda3\\lib\\site-packages\\telegram\\bot.py\", line 259, in _post\n",
      "    return self.request.post(\n",
      "  File \"C:\\Users\\Han Byeol\\anaconda3\\lib\\site-packages\\telegram\\utils\\request.py\", line 350, in post\n",
      "    result = self._request_wrapper(\n",
      "  File \"C:\\Users\\Han Byeol\\anaconda3\\lib\\site-packages\\telegram\\utils\\request.py\", line 277, in _request_wrapper\n",
      "    raise Conflict(message)\n",
      "telegram.error.Conflict: Conflict: terminated by other getUpdates request; make sure that only one bot instance is running\n"
     ]
    }
   ],
   "source": [
    "from telegram.ext import Updater, MessageHandler, Filters  # import modules\n",
    "\n",
    "my_token = '1854272659:AAHvLiFo6ecRABj0Kb7Wk6NEkCeqnO9RaMQ'\n",
    "\n",
    "print('start telegram chat bot')\n",
    "\n",
    "# message reply function\n",
    "def get_message(update, context):\n",
    "    update.message.reply_text(\"got text\")\n",
    "    update.message.reply_text(update.message.text)\n",
    "\n",
    "\n",
    "updater = Updater(my_token, use_context=True)\n",
    "\n",
    "message_handler = MessageHandler(Filters.text, get_message)\n",
    "updater.dispatcher.add_handler(message_handler)\n",
    "\n",
    "updater.start_polling(timeout=3, drop_pending_updates=True)\n",
    "updater.idle()"
   ]
  },
  {
   "cell_type": "code",
   "execution_count": 10,
   "metadata": {
    "scrolled": true
   },
   "outputs": [
    {
     "ename": "SyntaxError",
     "evalue": "invalid syntax (<ipython-input-10-b4683959556f>, line 22)",
     "output_type": "error",
     "traceback": [
      "\u001b[1;36m  File \u001b[1;32m\"<ipython-input-10-b4683959556f>\"\u001b[1;36m, line \u001b[1;32m22\u001b[0m\n\u001b[1;33m    1. 카페에서 듣기 좋은 음악\u001b[0m\n\u001b[1;37m       ^\u001b[0m\n\u001b[1;31mSyntaxError\u001b[0m\u001b[1;31m:\u001b[0m invalid syntax\n"
     ]
    }
   ],
   "source": [
    "from telegram.ext import Updater, MessageHandler, Filters, CommandHandler  # import modules\n",
    "\n",
    "my_token = '1854272659:AAHvLiFo6ecRABj0Kb7Wk6NEkCeqnO9RaMQ'\n",
    "\n",
    "print('start telegram chat bot')\n",
    "\n",
    "# message reply function\n",
    "def get_message(update, context) :\n",
    "    #update.effective_message.reply_text(\"1\")\n",
    "    update.message.reply_text(\"선택하신 번호는\"+update.message.text+\"입니다\")\n",
    "    #bot.send_photo( chat_id=update.message.chat_id, photo=open('C:/Users/020/Pictures/10576966_20210312112253_500.jpg', 'rb').pho,caption=\"로제 On the Ground\")\n",
    "    #url = \"https://cdnimg.melon.co.kr/cm2/album/images/105/76/966/10576966_20210312112253_500.jpg\"\n",
    "    #bot.send_photo( chat_id=update.message.chat_id, photo=PhotoSize(width=10, height=10,file_id=url, file_unique_id=\"\"),caption=\"로제 On the Ground\")\n",
    "    #update.message.reply_text(\"https://cdnimg.melon.co.kr/cm2/album/images/105/76/966/10576966_20210312112253_500.jpg\")\n",
    "\n",
    "#<img onerror=\"WEBPOCIMG.defaultAlbumImg(this);\" width=\"282\" height=\"282\"=\"https://cdnimg.melon.co.kr/cm2/album/images/105/76/966/10576966_20210312112253_500.jpg\n",
    "# help reply function\n",
    "def help_command(update, context) :\n",
    "    #update.message.reply_text(update.message.chat.first_name)\n",
    "    update.message.reply_text(\"안녕하세요! %s님 아래의 보기중 원하시는 장르의 번호를 입력해주세요\" %(update.message.chat.first_name))\n",
    "    update.message.reply_text(\n",
    "        \"1. 카페에서 듣기 좋은 음악\"+\"\\n\"+\n",
    "        \"2. 드라이브용 음악\"+\"\\n\"+\n",
    "        \"3. 일할때 듣기 좋은 음악\"+\"\\n\"+\n",
    "        \"4. 운동할때 듣기 좋은 음악\"+\"\\n\"+\n",
    "        \"5. 연차내고 듣기 좋은 음악\"+\"\\n\"+\n",
    "        \"6. 요리할때 듣기 좋은 음악\"+\"\\n\"+\n",
    "        \"7. 공부할때 듣기 좋은 음악\"+\"\\n\"+\n",
    "        \"8. 자기 전 듣기 좋은 음악\"\n",
    ")\n",
    "    \n",
    "def get_voice(update, voice):\n",
    "    \n",
    "\n",
    "\n",
    "updater = Updater(my_token, use_context=True)\n",
    "\n",
    "message_handler = MessageHandler(Filters.text & (~Filters.command), get_message) # 메세지중에서 command 제외\n",
    "updater.dispatcher.add_handler(message_handler)\n",
    "\n",
    "help_handler = CommandHandler('Music', help_command)\n",
    "updater.dispatcher.add_handler(help_handler)\n",
    "\n",
    "#message_handler2 = MessageHandler(Filters.text &, get_message)\n",
    "#updater.dispatcher.add_handler(message_handler2)\n",
    "\n",
    "updater.start_polling(timeout=3, drop_pending_updates=True)\n",
    "updater.idle()"
   ]
  },
  {
   "cell_type": "code",
   "execution_count": 5,
   "metadata": {},
   "outputs": [
    {
     "name": "stdout",
     "output_type": "stream",
     "text": [
      "a\n",
      "a\n",
      "a\n",
      "a\n",
      "a\n",
      "a\n",
      "a\n"
     ]
    }
   ],
   "source": [
    "#python3, speech to text, telegram-bot-api, simple responsive bot\n",
    "\n",
    "#1. record voice in telegram bot\n",
    "#2. download and save this ogg file\n",
    "#3. convert into .wav\n",
    "#4. recognize .wav into text\n",
    "#5. send to telegram bot as a response\n",
    "#               \n",
    "from dotenv import load_dotenv   #for python-dotenv method\n",
    "import requests, json, os, threading, pyttsx3, time\n",
    "\n",
    "load_dotenv()                    #for python-dotenv method\n",
    "my_token = '1854272659:AAHvLiFo6ecRABj0Kb7Wk6NEkCeqnO9RaMQ'\n",
    "class TelegramBot:\n",
    "    def __init__(self):\n",
    "        self.__YOURAPIKEY = my_token\n",
    "        self.__URL = f\"https://api.telegram.org/bot{self.__YOURAPIKEY}/\"\n",
    "        self.__last_update_id = 0\n",
    "        self.__setLastUpdate()\n",
    "    \n",
    "    def runUpdate(self):\n",
    "        #process updates every 3 seconds\n",
    "        threading.Timer(3.0, self.runUpdate).start()\n",
    "        self.index()\n",
    "\n",
    "    #online version is provided by google cloud services and not free\n",
    "        #use paid services for commercial projects\n",
    "        #https://scriptverse.academy/tutorials/python-text-to-speech.html\n",
    "    #offline version - low quality, but stable\n",
    "        #use offline version for testing purposes\n",
    "    def generateVoice(self, text):\n",
    "        #https://pypi.org/project/pyttsx3/\n",
    "        engine = pyttsx3.init()\n",
    "        engine.setProperty('rate', 125)     # setting up new voice rate\n",
    "\n",
    "        # On linux make sure that 'espeak' and 'ffmpeg' are installed\n",
    "        engine.save_to_file(text, 'tutorial4.mp3')\n",
    "        engine.runAndWait()\n",
    "        time.sleep(5)\n",
    "        return 'tutorial4.mp3'\n",
    "\n",
    "    def __setLastUpdate(self):\n",
    "        #not to send two responses\n",
    "        response = requests.get(self.__URL + \"getUpdates\").json()\n",
    "        result = response['result']\n",
    "        if len(result) > 0:\n",
    "            self.__last_update_id = result[len(result)-1]['update_id']\n",
    "            \n",
    "    def __letters(self, input):\n",
    "        return \"\".join([x for x in input if x.isalpha() or x == ' '])\n",
    "        #return ''.join(filter(str.isalpha, input))\n",
    "\n",
    "    def speechToText(self, file_name):\n",
    "        import speech_recognition as sr \n",
    "\n",
    "        from os import path\n",
    "        #pip3 install pydub\n",
    "        from pydub import AudioSegment\n",
    "\n",
    "        # files                                                                         \n",
    "        src = f\"{file_name}\"\n",
    "        dst = f\"{file_name}.wav\"\n",
    "\n",
    "        # convert wav to mp3     \n",
    "        # https://pythonbasics.org/convert-mp3-to-wav/                                                       \n",
    "        sound = AudioSegment.from_ogg(src)\n",
    "        sound.export(dst, format=\"wav\")\n",
    "        \n",
    "        \n",
    "        #https://pypi.org/project/SpeechRecognition/\n",
    "\n",
    "        # Initialize the recognizer  \n",
    "        r = sr.Recognizer()  \n",
    "\n",
    "        AUDIO_FILE = f\"{file_name}.wav\"\n",
    "        with sr.AudioFile(AUDIO_FILE) as source:\n",
    "            audio2 = r.record(source)  # read the entire audio file\n",
    "            #pip3 install pocketsphinx\n",
    "            # Using ggogle to recognize audio \n",
    "            #MyText = r.recognize_google(audio2) \n",
    "            MyText = r.recognize_sphinx(audio2) \n",
    "            MyText = MyText.lower() \n",
    "            return MyText\n",
    "        return -1\n",
    "            \n",
    "    def index(self):\n",
    "        offset = self.__last_update_id + 1\n",
    "        \n",
    "        response = requests.get(self.__URL + \"getUpdates?offset={offset}\").json()\n",
    "        result = response['result']\n",
    "\n",
    "        if len(result) > 0:\n",
    "            #respond to all new messages, and save the last update_id to the session\n",
    "            for update in result:\n",
    "                update_id = update['update_id']\n",
    "                if(update_id > self.__last_update_id):\n",
    "                    #line below should be here, otherwise bot sends us more than one replies, \n",
    "                    # because code doesn't catch up with the logic sometimes \n",
    "                    self.__last_update_id = update_id\n",
    "                    #print(\"new update\")\n",
    "\n",
    "                    message         = update['message']\n",
    "                    chat_id         = message['chat']['id']\n",
    "                    first_name      = message['chat']['first_name']\n",
    "                    username        = message['chat']['username']\n",
    "                    print(update_id)\n",
    "                    if(\"voice\" in message):\n",
    "                        print(message)\n",
    "\n",
    "                        #https://api.telegram.org/file/bot<token>/<file_path>\n",
    "                        #getFile file_id\n",
    "                        \n",
    "                        #for add. info\n",
    "                        #https://core.telegram.org/bots/api\n",
    "\n",
    "                        file_id = message['voice']['file_id']\n",
    "                        getFile = requests.get(f'{self.__URL}getFile?file_id={file_id}').json()\n",
    "                        file_path = getFile['result']['file_path']\n",
    "                        voice_url = f\"https://api.telegram.org/file/bot{self.__YOURAPIKEY}/{file_path}\"\n",
    "                        #print(voice_url)\n",
    "                        #answer = f\"You have just sent a voice: = {voice_url}\"\n",
    "\n",
    "                        #downloads the image frorm telegram\n",
    "                        import urllib.request \n",
    "                        urllib.request.urlretrieve(voice_url, \"tutorial4.ogg\")\n",
    "                        \n",
    "                        ready_text = self.speechToText('tutorial4.ogg')\n",
    "\n",
    "                        response = requests.get(f'{self.__URL}sendMessage?chat_id={chat_id}&text={ready_text}&parse_mode=HTML')\n",
    "\n",
    "                        #send a voice message\n",
    "                        file_name = self.generateVoice(ready_text)\n",
    "                        files = {'voice': open(file_name, 'rb')}\n",
    "                        print(requests.post(f'{self.__URL}sendVoice?chat_id={chat_id}', files=files).json())\n",
    "\n",
    "        return 0\n",
    "\n",
    "telegramBot = TelegramBot()\n",
    "telegramBot.runUpdate()"
   ]
  },
  {
   "cell_type": "code",
   "execution_count": 2,
   "metadata": {},
   "outputs": [
    {
     "name": "stdout",
     "output_type": "stream",
     "text": [
      "[{'update_id': 970642990, 'message': {'message_id': 207, 'from': {'id': 1783222002, 'is_bot': False, 'first_name': '한별', 'language_code': 'ko'}, 'chat': {'id': 1783222002, 'first_name': '한별', 'type': 'private'}, 'date': 1622730810, 'voice': {'duration': 3, 'mime_type': 'audio/ogg', 'file_id': 'AwACAgUAAxkBAAPPYLjoOkIz2m_a7wwqoI8wrBVPbX8AAnQDAALDU8FVmuwxDuBVjX8fBA', 'file_unique_id': 'AgADdAMAAsNTwVU', 'file_size': 15268}}}]\n"
     ]
    }
   ],
   "source": [
    "import requests\n",
    "URL = 'https://api.telegram.org/bot1854272659:AAHvLiFo6ecRABj0Kb7Wk6NEkCeqnO9RaMQ/getUpdates?offset={0}'\n",
    "#response = requests.get(URL)\n",
    "# response.status_code\n",
    "# response.text\n",
    "response = requests.get(URL).json()\n",
    "result = response['result']\n",
    "print(result)"
   ]
  },
  {
   "cell_type": "code",
   "execution_count": 23,
   "metadata": {},
   "outputs": [
    {
     "data": {
      "text/plain": [
       "{'ok': True,\n",
       " 'result': [{'update_id': 970642990,\n",
       "   'message': {'message_id': 207,\n",
       "    'from': {'id': 1783222002,\n",
       "     'is_bot': False,\n",
       "     'first_name': '한별',\n",
       "     'language_code': 'ko'},\n",
       "    'chat': {'id': 1783222002, 'first_name': '한별', 'type': 'private'},\n",
       "    'date': 1622730810,\n",
       "    'voice': {'duration': 3,\n",
       "     'mime_type': 'audio/ogg',\n",
       "     'file_id': 'AwACAgUAAxkBAAPPYLjoOkIz2m_a7wwqoI8wrBVPbX8AAnQDAALDU8FVmuwxDuBVjX8fBA',\n",
       "     'file_unique_id': 'AgADdAMAAsNTwVU',\n",
       "     'file_size': 15268}}}]}"
      ]
     },
     "execution_count": 23,
     "metadata": {},
     "output_type": "execute_result"
    }
   ],
   "source": [
    "response = requests.get(URL).json()\n",
    "result = response['result']\n",
    "response"
   ]
  },
  {
   "cell_type": "code",
   "execution_count": 6,
   "metadata": {},
   "outputs": [
    {
     "ename": "ModuleNotFoundError",
     "evalue": "No module named 'prettytable'",
     "output_type": "error",
     "traceback": [
      "\u001b[1;31m---------------------------------------------------------------------------\u001b[0m",
      "\u001b[1;31mModuleNotFoundError\u001b[0m                       Traceback (most recent call last)",
      "\u001b[1;32m<ipython-input-6-eed22d99988c>\u001b[0m in \u001b[0;36m<module>\u001b[1;34m\u001b[0m\n\u001b[1;32m----> 1\u001b[1;33m \u001b[1;32mimport\u001b[0m \u001b[0mprettytable\u001b[0m \u001b[1;32mas\u001b[0m \u001b[0mpt\u001b[0m\u001b[1;33m\u001b[0m\u001b[1;33m\u001b[0m\u001b[0m\n\u001b[0m\u001b[0;32m      2\u001b[0m \u001b[1;32mfrom\u001b[0m \u001b[0mtelegram\u001b[0m \u001b[1;32mimport\u001b[0m \u001b[0mParseMode\u001b[0m\u001b[1;33m\u001b[0m\u001b[1;33m\u001b[0m\u001b[0m\n\u001b[0;32m      3\u001b[0m \u001b[1;32mfrom\u001b[0m \u001b[0mtelegram\u001b[0m\u001b[1;33m.\u001b[0m\u001b[0mext\u001b[0m \u001b[1;32mimport\u001b[0m \u001b[0mCallbackContext\u001b[0m\u001b[1;33m,\u001b[0m \u001b[0mUpdater\u001b[0m\u001b[1;33m\u001b[0m\u001b[1;33m\u001b[0m\u001b[0m\n\u001b[0;32m      4\u001b[0m \u001b[1;33m\u001b[0m\u001b[0m\n\u001b[0;32m      5\u001b[0m \u001b[1;33m\u001b[0m\u001b[0m\n",
      "\u001b[1;31mModuleNotFoundError\u001b[0m: No module named 'prettytable'"
     ]
    }
   ],
   "source": [
    "import prettytable as pt\n",
    "from telegram import ParseMode\n",
    "from telegram.ext import CallbackContext, Updater\n",
    "\n",
    "\n",
    "def send_table(update: Updater, context: CallbackContext):\n",
    "    table = pt.PrettyTable(['Symbol', 'Price', 'Change'])\n",
    "    table.align['Symbol'] = 'l'\n",
    "    table.align['Price'] = 'r'\n",
    "    table.align['Change'] = 'r'\n",
    "\n",
    "    data = [\n",
    "        ('ABC', 20.85, 1.626),\n",
    "        ('DEF', 78.95, 0.099),\n",
    "        ('GHI', 23.45, 0.192),\n",
    "        ('JKL', 98.85, 0.292),\n",
    "    ]\n",
    "    for symbol, price, change in data:\n",
    "        table.add_row([symbol, f'{price:.2f}', f'{change:.3f}'])\n",
    "\n",
    "    update.message.reply_text(f'<pre>{table}</pre>', parse_mode=ParseMode.HTML)\n",
    "    # or use markdown\n",
    "    update.message.reply_text(f'```{table}```', parse_mode=ParseMode.MARKDOWN_V2)"
   ]
  },
  {
   "cell_type": "code",
   "execution_count": null,
   "metadata": {},
   "outputs": [],
   "source": []
  }
 ],
 "metadata": {
  "kernelspec": {
   "display_name": "Python 3",
   "language": "python",
   "name": "python3"
  },
  "language_info": {
   "codemirror_mode": {
    "name": "ipython",
    "version": 3
   },
   "file_extension": ".py",
   "mimetype": "text/x-python",
   "name": "python",
   "nbconvert_exporter": "python",
   "pygments_lexer": "ipython3",
   "version": "3.8.5"
  }
 },
 "nbformat": 4,
 "nbformat_minor": 5
}
