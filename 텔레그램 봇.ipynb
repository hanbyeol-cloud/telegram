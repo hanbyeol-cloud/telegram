{
 "cells": [
  {
   "cell_type": "code",
   "execution_count": 1,
   "id": "9ed1f99d",
   "metadata": {},
   "outputs": [],
   "source": [
    "import telegram\n",
    "from telegram import PhotoSize"
   ]
  },
  {
   "cell_type": "code",
   "execution_count": 2,
   "id": "f8d583a3",
   "metadata": {},
   "outputs": [],
   "source": [
    "bot = telegram.Bot(token='1854272659:AAHvLiFo6ecRABj0Kb7Wk6NEkCeqnO9RaMQ')\n",
    "chat_id = -1001360431691\n",
    "# chat_id = '@bigdata_classDRV5vTe0Ppw4MDI1'\n",
    "\n",
    "#bot.sendMessage(chat_id=chat_id, text=\"I`M BOT\")"
   ]
  },
  {
   "cell_type": "code",
   "execution_count": 1,
   "id": "680b23c2",
   "metadata": {},
   "outputs": [
    {
     "name": "stdout",
     "output_type": "stream",
     "text": [
      "start telegram chat bot\n"
     ]
    }
   ],
   "source": [
    "from telegram.ext import Updater, MessageHandler, Filters  # import modules\n",
    "\n",
    "my_token = '1854272659:AAHvLiFo6ecRABj0Kb7Wk6NEkCeqnO9RaMQ'\n",
    "\n",
    "print('start telegram chat bot')\n",
    "\n",
    "# message reply function\n",
    "def get_message(update, context):\n",
    "    update.message.reply_text(\"got text\")\n",
    "    update.message.reply_text(update.message.text)\n",
    "\n",
    "\n",
    "updater = Updater(my_token, use_context=True)\n",
    "\n",
    "message_handler = MessageHandler(Filters.text, get_message)\n",
    "updater.dispatcher.add_handler(message_handler)\n",
    "\n",
    "updater.start_polling(timeout=3, drop_pending_updates=True)\n",
    "updater.idle()"
   ]
  },
  {
   "cell_type": "code",
   "execution_count": 10,
   "id": "6fea5129",
   "metadata": {
    "scrolled": true
   },
   "outputs": [
    {
     "ename": "SyntaxError",
     "evalue": "invalid syntax (<ipython-input-10-b4683959556f>, line 22)",
     "output_type": "error",
     "traceback": [
      "\u001b[1;36m  File \u001b[1;32m\"<ipython-input-10-b4683959556f>\"\u001b[1;36m, line \u001b[1;32m22\u001b[0m\n\u001b[1;33m    1. 카페에서 듣기 좋은 음악\u001b[0m\n\u001b[1;37m       ^\u001b[0m\n\u001b[1;31mSyntaxError\u001b[0m\u001b[1;31m:\u001b[0m invalid syntax\n"
     ]
    }
   ],
   "source": [
    "from telegram.ext import Updater, MessageHandler, Filters, CommandHandler  # import modules\n",
    "\n",
    "my_token = '1854272659:AAHvLiFo6ecRABj0Kb7Wk6NEkCeqnO9RaMQ'\n",
    "\n",
    "print('start telegram chat bot')\n",
    "\n",
    "# message reply function\n",
    "def get_message(update, context) :\n",
    "    #update.effective_message.reply_text(\"1\")\n",
    "    update.message.reply_text(\"선택하신 번호는\"+update.message.text+\"입니다\")\n",
    "    #bot.send_photo( chat_id=update.message.chat_id, photo=open('C:/Users/020/Pictures/10576966_20210312112253_500.jpg', 'rb').pho,caption=\"로제 On the Ground\")\n",
    "    #url = \"https://cdnimg.melon.co.kr/cm2/album/images/105/76/966/10576966_20210312112253_500.jpg\"\n",
    "    #bot.send_photo( chat_id=update.message.chat_id, photo=PhotoSize(width=10, height=10,file_id=url, file_unique_id=\"\"),caption=\"로제 On the Ground\")\n",
    "    #update.message.reply_text(\"https://cdnimg.melon.co.kr/cm2/album/images/105/76/966/10576966_20210312112253_500.jpg\")\n",
    "\n",
    "#<img onerror=\"WEBPOCIMG.defaultAlbumImg(this);\" width=\"282\" height=\"282\"=\"https://cdnimg.melon.co.kr/cm2/album/images/105/76/966/10576966_20210312112253_500.jpg\n",
    "# help reply function\n",
    "def help_command(update, context) :\n",
    "    #update.message.reply_text(update.message.chat.first_name)\n",
    "    update.message.reply_text(\"안녕하세요! %s님 아래의 보기중 원하시는 장르의 번호를 입력해주세요\" %(update.message.chat.first_name))\n",
    "    update.message.reply_text(\n",
    "        \"1. 카페에서 듣기 좋은 음악\"+\"\\n\"+\n",
    "        \"2. 드라이브용 음악\"+\"\\n\"+\n",
    "        \"3. 일할때 듣기 좋은 음악\"+\"\\n\"+\n",
    "        \"4. 운동할때 듣기 좋은 음악\"+\"\\n\"+\n",
    "        \"5. 연차내고 듣기 좋은 음악\"+\"\\n\"+\n",
    "        \"6. 요리할때 듣기 좋은 음악\"+\"\\n\"+\n",
    "        \"7. 공부할때 듣기 좋은 음악\"+\"\\n\"+\n",
    "        \"8. 자기 전 듣기 좋은 음악\"\n",
    ")\n",
    "    \n",
    "def get_voice(update, voice):\n",
    "    \n",
    "\n",
    "\n",
    "updater = Updater(my_token, use_context=True)\n",
    "\n",
    "message_handler = MessageHandler(Filters.text & (~Filters.command), get_message) # 메세지중에서 command 제외\n",
    "updater.dispatcher.add_handler(message_handler)\n",
    "\n",
    "help_handler = CommandHandler('Music', help_command)\n",
    "updater.dispatcher.add_handler(help_handler)\n",
    "\n",
    "#message_handler2 = MessageHandler(Filters.text &, get_message)\n",
    "#updater.dispatcher.add_handler(message_handler2)\n",
    "\n",
    "updater.start_polling(timeout=3, drop_pending_updates=True)\n",
    "updater.idle()"
   ]
  },
  {
   "cell_type": "code",
   "execution_count": 1,
   "id": "0ee20f6e",
   "metadata": {},
   "outputs": [
    {
     "ename": "NameError",
     "evalue": "name 'drop_pending_updates' is not defined",
     "output_type": "error",
     "traceback": [
      "\u001b[1;31m---------------------------------------------------------------------------\u001b[0m",
      "\u001b[1;31mNameError\u001b[0m                                 Traceback (most recent call last)",
      "\u001b[1;32m<ipython-input-1-3602ba1e079d>\u001b[0m in \u001b[0;36m<module>\u001b[1;34m\u001b[0m\n\u001b[1;32m----> 1\u001b[1;33m \u001b[0mdrop_pending_updates\u001b[0m\u001b[1;33m\u001b[0m\u001b[1;33m\u001b[0m\u001b[0m\n\u001b[0m",
      "\u001b[1;31mNameError\u001b[0m: name 'drop_pending_updates' is not defined"
     ]
    }
   ],
   "source": [
    "drop_pending_updates"
   ]
  },
  {
   "cell_type": "code",
   "execution_count": 6,
   "id": "36534182",
   "metadata": {},
   "outputs": [
    {
     "ename": "ModuleNotFoundError",
     "evalue": "No module named 'prettytable'",
     "output_type": "error",
     "traceback": [
      "\u001b[1;31m---------------------------------------------------------------------------\u001b[0m",
      "\u001b[1;31mModuleNotFoundError\u001b[0m                       Traceback (most recent call last)",
      "\u001b[1;32m<ipython-input-6-eed22d99988c>\u001b[0m in \u001b[0;36m<module>\u001b[1;34m\u001b[0m\n\u001b[1;32m----> 1\u001b[1;33m \u001b[1;32mimport\u001b[0m \u001b[0mprettytable\u001b[0m \u001b[1;32mas\u001b[0m \u001b[0mpt\u001b[0m\u001b[1;33m\u001b[0m\u001b[1;33m\u001b[0m\u001b[0m\n\u001b[0m\u001b[0;32m      2\u001b[0m \u001b[1;32mfrom\u001b[0m \u001b[0mtelegram\u001b[0m \u001b[1;32mimport\u001b[0m \u001b[0mParseMode\u001b[0m\u001b[1;33m\u001b[0m\u001b[1;33m\u001b[0m\u001b[0m\n\u001b[0;32m      3\u001b[0m \u001b[1;32mfrom\u001b[0m \u001b[0mtelegram\u001b[0m\u001b[1;33m.\u001b[0m\u001b[0mext\u001b[0m \u001b[1;32mimport\u001b[0m \u001b[0mCallbackContext\u001b[0m\u001b[1;33m,\u001b[0m \u001b[0mUpdater\u001b[0m\u001b[1;33m\u001b[0m\u001b[1;33m\u001b[0m\u001b[0m\n\u001b[0;32m      4\u001b[0m \u001b[1;33m\u001b[0m\u001b[0m\n\u001b[0;32m      5\u001b[0m \u001b[1;33m\u001b[0m\u001b[0m\n",
      "\u001b[1;31mModuleNotFoundError\u001b[0m: No module named 'prettytable'"
     ]
    }
   ],
   "source": [
    "import prettytable as pt\n",
    "from telegram import ParseMode\n",
    "from telegram.ext import CallbackContext, Updater\n",
    "\n",
    "\n",
    "def send_table(update: Updater, context: CallbackContext):\n",
    "    table = pt.PrettyTable(['Symbol', 'Price', 'Change'])\n",
    "    table.align['Symbol'] = 'l'\n",
    "    table.align['Price'] = 'r'\n",
    "    table.align['Change'] = 'r'\n",
    "\n",
    "    data = [\n",
    "        ('ABC', 20.85, 1.626),\n",
    "        ('DEF', 78.95, 0.099),\n",
    "        ('GHI', 23.45, 0.192),\n",
    "        ('JKL', 98.85, 0.292),\n",
    "    ]\n",
    "    for symbol, price, change in data:\n",
    "        table.add_row([symbol, f'{price:.2f}', f'{change:.3f}'])\n",
    "\n",
    "    update.message.reply_text(f'<pre>{table}</pre>', parse_mode=ParseMode.HTML)\n",
    "    # or use markdown\n",
    "    update.message.reply_text(f'```{table}```', parse_mode=ParseMode.MARKDOWN_V2)"
   ]
  },
  {
   "cell_type": "code",
   "execution_count": null,
   "id": "aa809737",
   "metadata": {},
   "outputs": [],
   "source": []
  }
 ],
 "metadata": {
  "kernelspec": {
   "display_name": "Python 3",
   "language": "python",
   "name": "python3"
  },
  "language_info": {
   "codemirror_mode": {
    "name": "ipython",
    "version": 3
   },
   "file_extension": ".py",
   "mimetype": "text/x-python",
   "name": "python",
   "nbconvert_exporter": "python",
   "pygments_lexer": "ipython3",
   "version": "3.8.5"
  }
 },
 "nbformat": 4,
 "nbformat_minor": 5
}
