{
 "cells": [
  {
   "cell_type": "code",
   "execution_count": 1,
   "id": "bef3d849",
   "metadata": {},
   "outputs": [],
   "source": [
    "import telegram\n",
    "#from telegram import PhotoSize"
   ]
  },
  {
   "cell_type": "code",
   "execution_count": 2,
   "id": "8e7a2fa6",
   "metadata": {},
   "outputs": [],
   "source": [
    "bot = telegram.Bot(token='1854272659:AAHvLiFo6ecRABj0Kb7Wk6NEkCeqnO9RaMQ')\n",
    "#chat_id = -1001360431691\n",
    "# chat_id = '@bigdata_classDRV5vTe0Ppw4MDI1'\n",
    "\n",
    "#bot.sendMessage(chat_id=chat_id, text=\"I`M BOT\")"
   ]
  },
  {
   "cell_type": "code",
   "execution_count": 3,
   "id": "f409716a",
   "metadata": {},
   "outputs": [
    {
     "ename": "NameError",
     "evalue": "name 'last_update_id' is not defined",
     "output_type": "error",
     "traceback": [
      "\u001b[1;31m---------------------------------------------------------------------------\u001b[0m",
      "\u001b[1;31mNameError\u001b[0m                                 Traceback (most recent call last)",
      "\u001b[1;32m<ipython-input-3-f21e53fb74d2>\u001b[0m in \u001b[0;36m<module>\u001b[1;34m\u001b[0m\n\u001b[0;32m      5\u001b[0m \u001b[1;32mif\u001b[0m \u001b[0mlen\u001b[0m\u001b[1;33m(\u001b[0m\u001b[0mresult\u001b[0m\u001b[1;33m)\u001b[0m \u001b[1;33m>\u001b[0m \u001b[1;36m0\u001b[0m\u001b[1;33m:\u001b[0m\u001b[1;33m\u001b[0m\u001b[1;33m\u001b[0m\u001b[0m\n\u001b[0;32m      6\u001b[0m     \u001b[0mlast_update_id\u001b[0m \u001b[1;33m=\u001b[0m \u001b[0mresult\u001b[0m\u001b[1;33m[\u001b[0m\u001b[0mlen\u001b[0m\u001b[1;33m(\u001b[0m\u001b[0mresult\u001b[0m\u001b[1;33m)\u001b[0m\u001b[1;33m-\u001b[0m\u001b[1;36m1\u001b[0m\u001b[1;33m]\u001b[0m\u001b[1;33m[\u001b[0m\u001b[1;34m'update_id'\u001b[0m\u001b[1;33m]\u001b[0m\u001b[1;33m\u001b[0m\u001b[1;33m\u001b[0m\u001b[0m\n\u001b[1;32m----> 7\u001b[1;33m \u001b[0mprint\u001b[0m\u001b[1;33m(\u001b[0m\u001b[0mlast_update_id\u001b[0m\u001b[1;33m)\u001b[0m\u001b[1;33m\u001b[0m\u001b[1;33m\u001b[0m\u001b[0m\n\u001b[0m",
      "\u001b[1;31mNameError\u001b[0m: name 'last_update_id' is not defined"
     ]
    }
   ],
   "source": [
    "import requests\n",
    "URL = 'https://api.telegram.org/bot1854272659:AAHvLiFo6ecRABj0Kb7Wk6NEkCeqnO9RaMQ/getUpdates'\n",
    "response = requests.get(URL).json()\n",
    "result = response['result']\n",
    "if len(result) > 0:\n",
    "    last_update_id = result[len(result)-1]['update_id']\n",
    "print(last_update_id)"
   ]
  },
  {
   "cell_type": "code",
   "execution_count": 2,
   "id": "0e72c2ce",
   "metadata": {},
   "outputs": [
    {
     "data": {
      "text/plain": [
       "'https://api.telegram.org/bot1854272659:AAHvLiFo6ecRABj0Kb7Wk6NEkCeqnO9RaMQ/getUpdates'"
      ]
     },
     "execution_count": 2,
     "metadata": {},
     "output_type": "execute_result"
    }
   ],
   "source": [
    "token='1854272659:AAHvLiFo6ecRABj0Kb7Wk6NEkCeqnO9RaMQ'\n",
    "URL = ('https://api.telegram.org/bot{}/getUpdates').format(token)\n",
    "URL"
   ]
  },
  {
   "cell_type": "code",
   "execution_count": 1,
   "id": "e1999707",
   "metadata": {},
   "outputs": [
    {
     "name": "stdout",
     "output_type": "stream",
     "text": [
      "start telegram chat bot\n"
     ]
    },
    {
     "name": "stderr",
     "output_type": "stream",
     "text": [
      "No error handlers are registered, logging exception.\n",
      "Traceback (most recent call last):\n",
      "  File \"C:\\Users\\020\\anaconda3\\lib\\site-packages\\telegram\\ext\\dispatcher.py\", line 447, in process_update\n",
      "    handler.handle_update(update, self, check, context)\n",
      "  File \"C:\\Users\\020\\anaconda3\\lib\\site-packages\\telegram\\ext\\handler.py\", line 160, in handle_update\n",
      "    return self.callback(update, context)\n",
      "  File \"<ipython-input-1-f16748a7581c>\", line 14, in voice_handler\n",
      "    file = bot.getFile(update.message.voice.file_id)\n",
      "AttributeError: 'NoneType' object has no attribute 'file_id'\n"
     ]
    }
   ],
   "source": [
    "from telegram.ext import Updater, MessageHandler, Filters  # import modules\n",
    "\n",
    "my_token = '1854272659:AAHvLiFo6ecRABj0Kb7Wk6NEkCeqnO9RaMQ'\n",
    "bot = telegram.Bot(token='1854272659:AAHvLiFo6ecRABj0Kb7Wk6NEkCeqnO9RaMQ')\n",
    "print('start telegram chat bot')\n",
    "\n",
    "# message reply function\n",
    "def get_message(update, context):\n",
    "    update.message.reply_text(\"got text\")\n",
    "    update.message.reply_text(update.message.text)\n",
    "    \n",
    "def voice_handler(update, context):\n",
    "    bot = context.bot\n",
    "    file = bot.getFile(update.message.voice.file_id)\n",
    "    print(update)\n",
    "    file.download('voice.mp3')\n",
    "\n",
    "updater = Updater(my_token, use_context=True)\n",
    "\n",
    "message_handler2 = MessageHandler(Filters.text, voice_handler)\n",
    "updater.dispatcher.add_handler(message_handler2)\n",
    "\n",
    "message_handler = MessageHandler(Filters.text, get_message)\n",
    "updater.dispatcher.add_handler(message_handler)\n",
    "\n",
    "updater.start_polling(timeout=3, drop_pending_updates=True)\n",
    "updater.idle()"
   ]
  },
  {
   "cell_type": "code",
   "execution_count": null,
   "id": "2c46e828",
   "metadata": {},
   "outputs": [
    {
     "name": "stderr",
     "output_type": "stream",
     "text": [
      "No error handlers are registered, logging exception.\n",
      "Traceback (most recent call last):\n",
      "  File \"C:\\Users\\020\\anaconda3\\lib\\site-packages\\telegram\\ext\\dispatcher.py\", line 447, in process_update\n",
      "    handler.handle_update(update, self, check, context)\n",
      "  File \"C:\\Users\\020\\anaconda3\\lib\\site-packages\\telegram\\ext\\handler.py\", line 160, in handle_update\n",
      "    return self.callback(update, context)\n",
      "  File \"<ipython-input-3-00baca3110e4>\", line 5, in voice_handler\n",
      "    for data in bot.getUpdates():\n",
      "AttributeError: 'Update' object has no attribute 'getUpdates'\n"
     ]
    }
   ],
   "source": [
    "import telegram\n",
    "from telegram.ext import Updater\n",
    "bot = telegram.Bot(token='1854272659:AAHvLiFo6ecRABj0Kb7Wk6NEkCeqnO9RaMQ')\n",
    "def voice_handler(bot, update):\n",
    "    for data in bot.getUpdates():\n",
    "        file_name=data.message.voice.file_id\n",
    "    file = bot.getFile(file_name)\n",
    "    #print (\"file_id: \" + str(update.message.voice.file_id))\n",
    "    file.download('voice.ogg')\n",
    "\n",
    "updater = Updater(token='1854272659:AAHvLiFo6ecRABj0Kb7Wk6NEkCeqnO9RaMQ')\n",
    "dispatcher = updater.dispatcher\n",
    "dispatcher.add_handler(MessageHandler(Filters.voice, voice_handler))\n",
    "updater.start_polling(timeout=10)\n",
    "updater.idle()"
   ]
  },
  {
   "cell_type": "code",
   "execution_count": null,
   "id": "1f265cb7",
   "metadata": {},
   "outputs": [
    {
     "name": "stdout",
     "output_type": "stream",
     "text": [
      "file_id: AwACAgUAAxkBAAIB8WC6FAcKUpKGaYojvjutWCcNfmqfAAI5AgACyUbRVYGDnX6ikh--HwQ\n"
     ]
    }
   ],
   "source": [
    "import telegram\n",
    "from telegram.ext import Updater,MessageHandler, Filters\n",
    "\n",
    "bot = telegram.Bot(token='1854272659:AAHvLiFo6ecRABj0Kb7Wk6NEkCeqnO9RaMQ')\n",
    "\n",
    "def voice_handler(update, context):\n",
    "    file = bot.getFile(update.message.voice.file_id)\n",
    "    print (\"file_id: \" + str(update.message.voice.file_id))\n",
    "    file.download('voice.ogg')\n",
    "\n",
    "updater = Updater(token='1854272659:AAHvLiFo6ecRABj0Kb7Wk6NEkCeqnO9RaMQ')\n",
    "updater.dispatcher.add_handler(MessageHandler(Filters.voice, voice_handler))\n",
    "\n",
    "updater.start_polling()\n",
    "updater.idle()"
   ]
  },
  {
   "cell_type": "code",
   "execution_count": null,
   "id": "9e1054a1",
   "metadata": {},
   "outputs": [
    {
     "name": "stdout",
     "output_type": "stream",
     "text": [
      "0\n",
      "0\n",
      "start telegram chat bot\n",
      "file_id: AwACAgUAAxkBAAIB9WC6FlRrgQG8GNahLljWAWEwZHzfAAI7AgACyUbRVWizmh2P_F0-HwQ\n",
      "file_id: AwACAgUAAxkBAAIB9mC6Fln6WqsrktTsQbzRlYSIJAwYAAI8AgACyUbRVbTyyl4p9t3_HwQ\n"
     ]
    }
   ],
   "source": [
    "import telegram\n",
    "from telegram.ext import Updater, MessageHandler, Filters, CommandHandler  # import modules\n",
    "from telegram import InlineKeyboardButton, InlineKeyboardMarkup\n",
    "import requests\n",
    "from os import path\n",
    "from pydub import AudioSegment\n",
    "import pydub\n",
    "bot = telegram.Bot(token='1854272659:AAHvLiFo6ecRABj0Kb7Wk6NEkCeqnO9RaMQ')\n",
    "token='1854272659:AAHvLiFo6ecRABj0Kb7Wk6NEkCeqnO9RaMQ'\n",
    "URL = ('https://api.telegram.org/bot{}/getUpdates').format(token)\n",
    "response = requests.get(URL).json()\n",
    "result = response['result']\n",
    "last_update_id = 0\n",
    "print(len(result))\n",
    "if len(result) > 0:\n",
    "    last_update_id = result[len(result)-1]['update_id']\n",
    "print(last_update_id)\n",
    "if last_update_id != 0:\n",
    "    URL = ('https://api.telegram.org/bot{}/getUpdates').format(token)\n",
    "    response = requests.get(\"{}?offset={}\".format(URL,last_update_id+1)).json()\n",
    "    \n",
    "\n",
    "my_token = '1854272659:AAHvLiFo6ecRABj0Kb7Wk6NEkCeqnO9RaMQ'\n",
    "updater = Updater(my_token, use_context=True)\n",
    "print('start telegram chat bot')\n",
    "\n",
    "# message reply function\n",
    "def get_message(update, context):\n",
    "    #update.effective_message.reply_text(\"1\")\n",
    "    update.message.reply_text(\"선택하신 번호는\"+update.message.text+\"입니다\")\n",
    "    #bot.send_photo( chat_id=update.message.chat_id, photo=open('C:/Users/020/Pictures/10576966_20210312112253_500.jpg', 'rb').pho,caption=\"로제 On the Ground\")\n",
    "    #url = \"https://cdnimg.melon.co.kr/cm2/album/images/105/76/966/10576966_20210312112253_500.jpg\"\n",
    "    #bot.send_photo( chat_id=update.message.chat_id, photo=PhotoSize(width=10, height=10,file_id=url, file_unique_id=\"\"),caption=\"로제 On the Ground\")\n",
    "    #update.message.reply_text(\"https://cdnimg.melon.co.kr/cm2/album/images/105/76/966/10576966_20210312112253_500.jpg\")\n",
    "    \n",
    "#<img onerror=\"WEBPOCIMG.defaultAlbumImg(this);\" width=\"282\" height=\"282\"=\"https://cdnimg.melon.co.kr/cm2/album/images/105/76/966/10576966_20210312112253_500.jpg\n",
    "# help reply function\n",
    "\n",
    "def music_command(update, context):\n",
    "    #update.message.reply_text(update.message.chat.first_name)\n",
    "    update.message.reply_text(\"안녕하세요! %s님 아래의 보기중 원하시는 장르의 번호를 입력해주세요\" %(update.message.chat.first_name))\n",
    "    update.message.reply_text(\n",
    "        \"1. 카페에서 듣기 좋은 음악\"+\"\\n\"+\n",
    "        \"2. 드라이브용 음악\"+\"\\n\"+\n",
    "        \"3. 일할때 듣기 좋은 음악\"+\"\\n\"+\n",
    "        \"4. 운동할때 듣기 좋은 음악\"+\"\\n\"+\n",
    "        \"5. 연차내고 듣기 좋은 음악\"+\"\\n\"+\n",
    "        \"6. 요리할때 듣기 좋은 음악\"+\"\\n\"+\n",
    "        \"7. 공부할때 듣기 좋은 음악\"+\"\\n\"+\n",
    "        \"8. 자기 전 듣기 좋은 음악\"\n",
    "    )\n",
    "    \n",
    "    \n",
    "def stop_command(update, context):\n",
    "    print(\"종료됬습니다.\")\n",
    "    updater.stop()\n",
    "    \n",
    "def get_voice(update, context):\n",
    "    file = bot.getFile(update.message.voice.file_id)\n",
    "    print (\"file_id: \" + str(update.message.voice.file_id))\n",
    "    file.download('voice.ogg')\n",
    "    ogg_version = AudioSegment.from_ogg(\"voice.ogg\")\n",
    "    ogg_version.export('output.wav', format=\"wav\")\n",
    "    \n",
    "def cmd_task_buttons(update, context):\n",
    "    task_buttons = [[\n",
    "        InlineKeyboardButton( '1', callback_data=1 )\n",
    "        , InlineKeyboardButton( '2', callback_data=2 ),\n",
    "        InlineKeyboardButton( '3', callback_data=1 )\n",
    "        , InlineKeyboardButton( '4', callback_data=2 ),\n",
    "        InlineKeyboardButton( '5', callback_data=1 )\n",
    "        , InlineKeyboardButton( '6', callback_data=2 ),\n",
    "        InlineKeyboardButton( '7', callback_data=1 )]\n",
    "        ,[ InlineKeyboardButton( '8', callback_data=2 ),\n",
    "        InlineKeyboardButton( '9', callback_data=1 )\n",
    "        , InlineKeyboardButton( '10', callback_data=2 ),\n",
    "        InlineKeyboardButton( '11', callback_data=1 )\n",
    "        , InlineKeyboardButton( '12', callback_data=2 ),\n",
    "        InlineKeyboardButton( '13', callback_data=1 )\n",
    "        , InlineKeyboardButton( '14', callback_data=2 ),\n",
    "    ], \n",
    "       [InlineKeyboardButton( '3.취소', callback_data=3 )]\n",
    "    ]\n",
    "    \n",
    "    reply_markup = InlineKeyboardMarkup( task_buttons )\n",
    "    \n",
    "    context.bot.send_message(\n",
    "        chat_id=update.message.chat_id\n",
    "        , text='작업을 선택해주세요.'\n",
    "        , reply_markup=reply_markup\n",
    "    )\n",
    "\n",
    "\n",
    "task_buttons_handler = CommandHandler( 'tasks', cmd_task_buttons )\n",
    " \n",
    "updater.dispatcher.add_handler( task_buttons_handler )\n",
    "\n",
    "message_handler = MessageHandler(Filters.text & (~Filters.command), get_message) # 메세지중에서 command 제외\n",
    "updater.dispatcher.add_handler(message_handler)\n",
    "\n",
    "help_handler = CommandHandler('Music', music_command)\n",
    "updater.dispatcher.add_handler(help_handler)\n",
    "\n",
    "stop_handler = CommandHandler('stop', stop_command)\n",
    "updater.dispatcher.add_handler(stop_handler)\n",
    "\n",
    "voice_handler = MessageHandler(Filters.voice, get_voice)\n",
    "updater.dispatcher.add_handler(voice_handler)\n",
    "\n",
    "#message_handler2 = MessageHandler(Filters.text &, get_message)\n",
    "#updater.dispatcher.add_handler(message_handler2)\n",
    "\n",
    "updater.start_polling(poll_interval=3)\n",
    "updater.idle()"
   ]
  },
  {
   "cell_type": "code",
   "execution_count": 9,
   "id": "8de5666b",
   "metadata": {},
   "outputs": [
    {
     "name": "stdout",
     "output_type": "stream",
     "text": [
      "{'ok': True, 'result': []}\n",
      "-\n"
     ]
    },
    {
     "ename": "TimedOut",
     "evalue": "Timed out",
     "output_type": "error",
     "traceback": [
      "\u001b[1;31m---------------------------------------------------------------------------\u001b[0m",
      "\u001b[1;31mtimeout\u001b[0m                                   Traceback (most recent call last)",
      "\u001b[1;32m~\\anaconda3\\lib\\site-packages\\telegram\\vendor\\ptb_urllib3\\urllib3\\connectionpool.py\u001b[0m in \u001b[0;36m_make_request\u001b[1;34m(self, conn, method, url, timeout, chunked, **httplib_request_kw)\u001b[0m\n\u001b[0;32m    401\u001b[0m                     \u001b[1;31m# otherwise it looks like a programming error was the cause.\u001b[0m\u001b[1;33m\u001b[0m\u001b[1;33m\u001b[0m\u001b[1;33m\u001b[0m\u001b[0m\n\u001b[1;32m--> 402\u001b[1;33m                     \u001b[0msix\u001b[0m\u001b[1;33m.\u001b[0m\u001b[0mraise_from\u001b[0m\u001b[1;33m(\u001b[0m\u001b[0me\u001b[0m\u001b[1;33m,\u001b[0m \u001b[1;32mNone\u001b[0m\u001b[1;33m)\u001b[0m\u001b[1;33m\u001b[0m\u001b[1;33m\u001b[0m\u001b[0m\n\u001b[0m\u001b[0;32m    403\u001b[0m         \u001b[1;32mexcept\u001b[0m \u001b[1;33m(\u001b[0m\u001b[0mSocketTimeout\u001b[0m\u001b[1;33m,\u001b[0m \u001b[0mBaseSSLError\u001b[0m\u001b[1;33m,\u001b[0m \u001b[0mSocketError\u001b[0m\u001b[1;33m)\u001b[0m \u001b[1;32mas\u001b[0m \u001b[0me\u001b[0m\u001b[1;33m:\u001b[0m\u001b[1;33m\u001b[0m\u001b[1;33m\u001b[0m\u001b[0m\n",
      "\u001b[1;32m~\\anaconda3\\lib\\site-packages\\telegram\\vendor\\ptb_urllib3\\urllib3\\packages\\six.py\u001b[0m in \u001b[0;36mraise_from\u001b[1;34m(value, from_value)\u001b[0m\n",
      "\u001b[1;32m~\\anaconda3\\lib\\site-packages\\telegram\\vendor\\ptb_urllib3\\urllib3\\connectionpool.py\u001b[0m in \u001b[0;36m_make_request\u001b[1;34m(self, conn, method, url, timeout, chunked, **httplib_request_kw)\u001b[0m\n\u001b[0;32m    397\u001b[0m                 \u001b[1;32mtry\u001b[0m\u001b[1;33m:\u001b[0m\u001b[1;33m\u001b[0m\u001b[1;33m\u001b[0m\u001b[0m\n\u001b[1;32m--> 398\u001b[1;33m                     \u001b[0mhttplib_response\u001b[0m \u001b[1;33m=\u001b[0m \u001b[0mconn\u001b[0m\u001b[1;33m.\u001b[0m\u001b[0mgetresponse\u001b[0m\u001b[1;33m(\u001b[0m\u001b[1;33m)\u001b[0m\u001b[1;33m\u001b[0m\u001b[1;33m\u001b[0m\u001b[0m\n\u001b[0m\u001b[0;32m    399\u001b[0m                 \u001b[1;32mexcept\u001b[0m \u001b[0mException\u001b[0m \u001b[1;32mas\u001b[0m \u001b[0me\u001b[0m\u001b[1;33m:\u001b[0m\u001b[1;33m\u001b[0m\u001b[1;33m\u001b[0m\u001b[0m\n",
      "\u001b[1;32m~\\anaconda3\\lib\\http\\client.py\u001b[0m in \u001b[0;36mgetresponse\u001b[1;34m(self)\u001b[0m\n\u001b[0;32m   1346\u001b[0m             \u001b[1;32mtry\u001b[0m\u001b[1;33m:\u001b[0m\u001b[1;33m\u001b[0m\u001b[1;33m\u001b[0m\u001b[0m\n\u001b[1;32m-> 1347\u001b[1;33m                 \u001b[0mresponse\u001b[0m\u001b[1;33m.\u001b[0m\u001b[0mbegin\u001b[0m\u001b[1;33m(\u001b[0m\u001b[1;33m)\u001b[0m\u001b[1;33m\u001b[0m\u001b[1;33m\u001b[0m\u001b[0m\n\u001b[0m\u001b[0;32m   1348\u001b[0m             \u001b[1;32mexcept\u001b[0m \u001b[0mConnectionError\u001b[0m\u001b[1;33m:\u001b[0m\u001b[1;33m\u001b[0m\u001b[1;33m\u001b[0m\u001b[0m\n",
      "\u001b[1;32m~\\anaconda3\\lib\\http\\client.py\u001b[0m in \u001b[0;36mbegin\u001b[1;34m(self)\u001b[0m\n\u001b[0;32m    306\u001b[0m         \u001b[1;32mwhile\u001b[0m \u001b[1;32mTrue\u001b[0m\u001b[1;33m:\u001b[0m\u001b[1;33m\u001b[0m\u001b[1;33m\u001b[0m\u001b[0m\n\u001b[1;32m--> 307\u001b[1;33m             \u001b[0mversion\u001b[0m\u001b[1;33m,\u001b[0m \u001b[0mstatus\u001b[0m\u001b[1;33m,\u001b[0m \u001b[0mreason\u001b[0m \u001b[1;33m=\u001b[0m \u001b[0mself\u001b[0m\u001b[1;33m.\u001b[0m\u001b[0m_read_status\u001b[0m\u001b[1;33m(\u001b[0m\u001b[1;33m)\u001b[0m\u001b[1;33m\u001b[0m\u001b[1;33m\u001b[0m\u001b[0m\n\u001b[0m\u001b[0;32m    308\u001b[0m             \u001b[1;32mif\u001b[0m \u001b[0mstatus\u001b[0m \u001b[1;33m!=\u001b[0m \u001b[0mCONTINUE\u001b[0m\u001b[1;33m:\u001b[0m\u001b[1;33m\u001b[0m\u001b[1;33m\u001b[0m\u001b[0m\n",
      "\u001b[1;32m~\\anaconda3\\lib\\http\\client.py\u001b[0m in \u001b[0;36m_read_status\u001b[1;34m(self)\u001b[0m\n\u001b[0;32m    267\u001b[0m     \u001b[1;32mdef\u001b[0m \u001b[0m_read_status\u001b[0m\u001b[1;33m(\u001b[0m\u001b[0mself\u001b[0m\u001b[1;33m)\u001b[0m\u001b[1;33m:\u001b[0m\u001b[1;33m\u001b[0m\u001b[1;33m\u001b[0m\u001b[0m\n\u001b[1;32m--> 268\u001b[1;33m         \u001b[0mline\u001b[0m \u001b[1;33m=\u001b[0m \u001b[0mstr\u001b[0m\u001b[1;33m(\u001b[0m\u001b[0mself\u001b[0m\u001b[1;33m.\u001b[0m\u001b[0mfp\u001b[0m\u001b[1;33m.\u001b[0m\u001b[0mreadline\u001b[0m\u001b[1;33m(\u001b[0m\u001b[0m_MAXLINE\u001b[0m \u001b[1;33m+\u001b[0m \u001b[1;36m1\u001b[0m\u001b[1;33m)\u001b[0m\u001b[1;33m,\u001b[0m \u001b[1;34m\"iso-8859-1\"\u001b[0m\u001b[1;33m)\u001b[0m\u001b[1;33m\u001b[0m\u001b[1;33m\u001b[0m\u001b[0m\n\u001b[0m\u001b[0;32m    269\u001b[0m         \u001b[1;32mif\u001b[0m \u001b[0mlen\u001b[0m\u001b[1;33m(\u001b[0m\u001b[0mline\u001b[0m\u001b[1;33m)\u001b[0m \u001b[1;33m>\u001b[0m \u001b[0m_MAXLINE\u001b[0m\u001b[1;33m:\u001b[0m\u001b[1;33m\u001b[0m\u001b[1;33m\u001b[0m\u001b[0m\n",
      "\u001b[1;32m~\\anaconda3\\lib\\socket.py\u001b[0m in \u001b[0;36mreadinto\u001b[1;34m(self, b)\u001b[0m\n\u001b[0;32m    668\u001b[0m             \u001b[1;32mtry\u001b[0m\u001b[1;33m:\u001b[0m\u001b[1;33m\u001b[0m\u001b[1;33m\u001b[0m\u001b[0m\n\u001b[1;32m--> 669\u001b[1;33m                 \u001b[1;32mreturn\u001b[0m \u001b[0mself\u001b[0m\u001b[1;33m.\u001b[0m\u001b[0m_sock\u001b[0m\u001b[1;33m.\u001b[0m\u001b[0mrecv_into\u001b[0m\u001b[1;33m(\u001b[0m\u001b[0mb\u001b[0m\u001b[1;33m)\u001b[0m\u001b[1;33m\u001b[0m\u001b[1;33m\u001b[0m\u001b[0m\n\u001b[0m\u001b[0;32m    670\u001b[0m             \u001b[1;32mexcept\u001b[0m \u001b[0mtimeout\u001b[0m\u001b[1;33m:\u001b[0m\u001b[1;33m\u001b[0m\u001b[1;33m\u001b[0m\u001b[0m\n",
      "\u001b[1;32m~\\anaconda3\\lib\\ssl.py\u001b[0m in \u001b[0;36mrecv_into\u001b[1;34m(self, buffer, nbytes, flags)\u001b[0m\n\u001b[0;32m   1240\u001b[0m                   self.__class__)\n\u001b[1;32m-> 1241\u001b[1;33m             \u001b[1;32mreturn\u001b[0m \u001b[0mself\u001b[0m\u001b[1;33m.\u001b[0m\u001b[0mread\u001b[0m\u001b[1;33m(\u001b[0m\u001b[0mnbytes\u001b[0m\u001b[1;33m,\u001b[0m \u001b[0mbuffer\u001b[0m\u001b[1;33m)\u001b[0m\u001b[1;33m\u001b[0m\u001b[1;33m\u001b[0m\u001b[0m\n\u001b[0m\u001b[0;32m   1242\u001b[0m         \u001b[1;32melse\u001b[0m\u001b[1;33m:\u001b[0m\u001b[1;33m\u001b[0m\u001b[1;33m\u001b[0m\u001b[0m\n",
      "\u001b[1;32m~\\anaconda3\\lib\\ssl.py\u001b[0m in \u001b[0;36mread\u001b[1;34m(self, len, buffer)\u001b[0m\n\u001b[0;32m   1098\u001b[0m             \u001b[1;32mif\u001b[0m \u001b[0mbuffer\u001b[0m \u001b[1;32mis\u001b[0m \u001b[1;32mnot\u001b[0m \u001b[1;32mNone\u001b[0m\u001b[1;33m:\u001b[0m\u001b[1;33m\u001b[0m\u001b[1;33m\u001b[0m\u001b[0m\n\u001b[1;32m-> 1099\u001b[1;33m                 \u001b[1;32mreturn\u001b[0m \u001b[0mself\u001b[0m\u001b[1;33m.\u001b[0m\u001b[0m_sslobj\u001b[0m\u001b[1;33m.\u001b[0m\u001b[0mread\u001b[0m\u001b[1;33m(\u001b[0m\u001b[0mlen\u001b[0m\u001b[1;33m,\u001b[0m \u001b[0mbuffer\u001b[0m\u001b[1;33m)\u001b[0m\u001b[1;33m\u001b[0m\u001b[1;33m\u001b[0m\u001b[0m\n\u001b[0m\u001b[0;32m   1100\u001b[0m             \u001b[1;32melse\u001b[0m\u001b[1;33m:\u001b[0m\u001b[1;33m\u001b[0m\u001b[1;33m\u001b[0m\u001b[0m\n",
      "\u001b[1;31mtimeout\u001b[0m: The read operation timed out",
      "\nDuring handling of the above exception, another exception occurred:\n",
      "\u001b[1;31mReadTimeoutError\u001b[0m                          Traceback (most recent call last)",
      "\u001b[1;32m~\\anaconda3\\lib\\site-packages\\telegram\\utils\\request.py\u001b[0m in \u001b[0;36m_request_wrapper\u001b[1;34m(self, *args, **kwargs)\u001b[0m\n\u001b[0;32m    252\u001b[0m         \u001b[1;32mtry\u001b[0m\u001b[1;33m:\u001b[0m\u001b[1;33m\u001b[0m\u001b[1;33m\u001b[0m\u001b[0m\n\u001b[1;32m--> 253\u001b[1;33m             \u001b[0mresp\u001b[0m \u001b[1;33m=\u001b[0m \u001b[0mself\u001b[0m\u001b[1;33m.\u001b[0m\u001b[0m_con_pool\u001b[0m\u001b[1;33m.\u001b[0m\u001b[0mrequest\u001b[0m\u001b[1;33m(\u001b[0m\u001b[1;33m*\u001b[0m\u001b[0margs\u001b[0m\u001b[1;33m,\u001b[0m \u001b[1;33m**\u001b[0m\u001b[0mkwargs\u001b[0m\u001b[1;33m)\u001b[0m\u001b[1;33m\u001b[0m\u001b[1;33m\u001b[0m\u001b[0m\n\u001b[0m\u001b[0;32m    254\u001b[0m         \u001b[1;32mexcept\u001b[0m \u001b[0murllib3\u001b[0m\u001b[1;33m.\u001b[0m\u001b[0mexceptions\u001b[0m\u001b[1;33m.\u001b[0m\u001b[0mTimeoutError\u001b[0m \u001b[1;32mas\u001b[0m \u001b[0merror\u001b[0m\u001b[1;33m:\u001b[0m\u001b[1;33m\u001b[0m\u001b[1;33m\u001b[0m\u001b[0m\n",
      "\u001b[1;32m~\\anaconda3\\lib\\site-packages\\telegram\\vendor\\ptb_urllib3\\urllib3\\request.py\u001b[0m in \u001b[0;36mrequest\u001b[1;34m(self, method, url, fields, headers, **urlopen_kw)\u001b[0m\n\u001b[0;32m     67\u001b[0m         \u001b[1;32melse\u001b[0m\u001b[1;33m:\u001b[0m\u001b[1;33m\u001b[0m\u001b[1;33m\u001b[0m\u001b[0m\n\u001b[1;32m---> 68\u001b[1;33m             return self.request_encode_body(method, url, fields=fields,\n\u001b[0m\u001b[0;32m     69\u001b[0m                                             \u001b[0mheaders\u001b[0m\u001b[1;33m=\u001b[0m\u001b[0mheaders\u001b[0m\u001b[1;33m,\u001b[0m\u001b[1;33m\u001b[0m\u001b[1;33m\u001b[0m\u001b[0m\n",
      "\u001b[1;32m~\\anaconda3\\lib\\site-packages\\telegram\\vendor\\ptb_urllib3\\urllib3\\request.py\u001b[0m in \u001b[0;36mrequest_encode_body\u001b[1;34m(self, method, url, fields, headers, encode_multipart, multipart_boundary, **urlopen_kw)\u001b[0m\n\u001b[0;32m    147\u001b[0m \u001b[1;33m\u001b[0m\u001b[0m\n\u001b[1;32m--> 148\u001b[1;33m         \u001b[1;32mreturn\u001b[0m \u001b[0mself\u001b[0m\u001b[1;33m.\u001b[0m\u001b[0murlopen\u001b[0m\u001b[1;33m(\u001b[0m\u001b[0mmethod\u001b[0m\u001b[1;33m,\u001b[0m \u001b[0murl\u001b[0m\u001b[1;33m,\u001b[0m \u001b[1;33m**\u001b[0m\u001b[0mextra_kw\u001b[0m\u001b[1;33m)\u001b[0m\u001b[1;33m\u001b[0m\u001b[1;33m\u001b[0m\u001b[0m\n\u001b[0m",
      "\u001b[1;32m~\\anaconda3\\lib\\site-packages\\telegram\\vendor\\ptb_urllib3\\urllib3\\poolmanager.py\u001b[0m in \u001b[0;36murlopen\u001b[1;34m(self, method, url, redirect, **kw)\u001b[0m\n\u001b[0;32m    243\u001b[0m         \u001b[1;32melse\u001b[0m\u001b[1;33m:\u001b[0m\u001b[1;33m\u001b[0m\u001b[1;33m\u001b[0m\u001b[0m\n\u001b[1;32m--> 244\u001b[1;33m             \u001b[0mresponse\u001b[0m \u001b[1;33m=\u001b[0m \u001b[0mconn\u001b[0m\u001b[1;33m.\u001b[0m\u001b[0murlopen\u001b[0m\u001b[1;33m(\u001b[0m\u001b[0mmethod\u001b[0m\u001b[1;33m,\u001b[0m \u001b[0mu\u001b[0m\u001b[1;33m.\u001b[0m\u001b[0mrequest_uri\u001b[0m\u001b[1;33m,\u001b[0m \u001b[1;33m**\u001b[0m\u001b[0mkw\u001b[0m\u001b[1;33m)\u001b[0m\u001b[1;33m\u001b[0m\u001b[1;33m\u001b[0m\u001b[0m\n\u001b[0m\u001b[0;32m    245\u001b[0m \u001b[1;33m\u001b[0m\u001b[0m\n",
      "\u001b[1;32m~\\anaconda3\\lib\\site-packages\\telegram\\vendor\\ptb_urllib3\\urllib3\\connectionpool.py\u001b[0m in \u001b[0;36murlopen\u001b[1;34m(self, method, url, body, headers, retries, redirect, assert_same_host, timeout, pool_timeout, release_conn, chunked, body_pos, **response_kw)\u001b[0m\n\u001b[0;32m    664\u001b[0m \u001b[1;33m\u001b[0m\u001b[0m\n\u001b[1;32m--> 665\u001b[1;33m             retries = retries.increment(method, url, error=e, _pool=self,\n\u001b[0m\u001b[0;32m    666\u001b[0m                                         _stacktrace=sys.exc_info()[2])\n",
      "\u001b[1;32m~\\anaconda3\\lib\\site-packages\\telegram\\vendor\\ptb_urllib3\\urllib3\\util\\retry.py\u001b[0m in \u001b[0;36mincrement\u001b[1;34m(self, method, url, response, error, _pool, _stacktrace)\u001b[0m\n\u001b[0;32m    346\u001b[0m             \u001b[1;32mif\u001b[0m \u001b[0mread\u001b[0m \u001b[1;32mis\u001b[0m \u001b[1;32mFalse\u001b[0m \u001b[1;32mor\u001b[0m \u001b[1;32mnot\u001b[0m \u001b[0mself\u001b[0m\u001b[1;33m.\u001b[0m\u001b[0m_is_method_retryable\u001b[0m\u001b[1;33m(\u001b[0m\u001b[0mmethod\u001b[0m\u001b[1;33m)\u001b[0m\u001b[1;33m:\u001b[0m\u001b[1;33m\u001b[0m\u001b[1;33m\u001b[0m\u001b[0m\n\u001b[1;32m--> 347\u001b[1;33m                 \u001b[1;32mraise\u001b[0m \u001b[0msix\u001b[0m\u001b[1;33m.\u001b[0m\u001b[0mreraise\u001b[0m\u001b[1;33m(\u001b[0m\u001b[0mtype\u001b[0m\u001b[1;33m(\u001b[0m\u001b[0merror\u001b[0m\u001b[1;33m)\u001b[0m\u001b[1;33m,\u001b[0m \u001b[0merror\u001b[0m\u001b[1;33m,\u001b[0m \u001b[0m_stacktrace\u001b[0m\u001b[1;33m)\u001b[0m\u001b[1;33m\u001b[0m\u001b[1;33m\u001b[0m\u001b[0m\n\u001b[0m\u001b[0;32m    348\u001b[0m             \u001b[1;32melif\u001b[0m \u001b[0mread\u001b[0m \u001b[1;32mis\u001b[0m \u001b[1;32mnot\u001b[0m \u001b[1;32mNone\u001b[0m\u001b[1;33m:\u001b[0m\u001b[1;33m\u001b[0m\u001b[1;33m\u001b[0m\u001b[0m\n",
      "\u001b[1;32m~\\anaconda3\\lib\\site-packages\\telegram\\vendor\\ptb_urllib3\\urllib3\\packages\\six.py\u001b[0m in \u001b[0;36mreraise\u001b[1;34m(tp, value, tb)\u001b[0m\n\u001b[0;32m    685\u001b[0m             \u001b[1;32mraise\u001b[0m \u001b[0mvalue\u001b[0m\u001b[1;33m.\u001b[0m\u001b[0mwith_traceback\u001b[0m\u001b[1;33m(\u001b[0m\u001b[0mtb\u001b[0m\u001b[1;33m)\u001b[0m\u001b[1;33m\u001b[0m\u001b[1;33m\u001b[0m\u001b[0m\n\u001b[1;32m--> 686\u001b[1;33m         \u001b[1;32mraise\u001b[0m \u001b[0mvalue\u001b[0m\u001b[1;33m\u001b[0m\u001b[1;33m\u001b[0m\u001b[0m\n\u001b[0m\u001b[0;32m    687\u001b[0m \u001b[1;33m\u001b[0m\u001b[0m\n",
      "\u001b[1;32m~\\anaconda3\\lib\\site-packages\\telegram\\vendor\\ptb_urllib3\\urllib3\\connectionpool.py\u001b[0m in \u001b[0;36murlopen\u001b[1;34m(self, method, url, body, headers, retries, redirect, assert_same_host, timeout, pool_timeout, release_conn, chunked, body_pos, **response_kw)\u001b[0m\n\u001b[0;32m    613\u001b[0m             \u001b[1;31m# Make the request on the httplib connection object.\u001b[0m\u001b[1;33m\u001b[0m\u001b[1;33m\u001b[0m\u001b[1;33m\u001b[0m\u001b[0m\n\u001b[1;32m--> 614\u001b[1;33m             httplib_response = self._make_request(conn, method, url,\n\u001b[0m\u001b[0;32m    615\u001b[0m                                                   \u001b[0mtimeout\u001b[0m\u001b[1;33m=\u001b[0m\u001b[0mtimeout_obj\u001b[0m\u001b[1;33m,\u001b[0m\u001b[1;33m\u001b[0m\u001b[1;33m\u001b[0m\u001b[0m\n",
      "\u001b[1;32m~\\anaconda3\\lib\\site-packages\\telegram\\vendor\\ptb_urllib3\\urllib3\\connectionpool.py\u001b[0m in \u001b[0;36m_make_request\u001b[1;34m(self, conn, method, url, timeout, chunked, **httplib_request_kw)\u001b[0m\n\u001b[0;32m    403\u001b[0m         \u001b[1;32mexcept\u001b[0m \u001b[1;33m(\u001b[0m\u001b[0mSocketTimeout\u001b[0m\u001b[1;33m,\u001b[0m \u001b[0mBaseSSLError\u001b[0m\u001b[1;33m,\u001b[0m \u001b[0mSocketError\u001b[0m\u001b[1;33m)\u001b[0m \u001b[1;32mas\u001b[0m \u001b[0me\u001b[0m\u001b[1;33m:\u001b[0m\u001b[1;33m\u001b[0m\u001b[1;33m\u001b[0m\u001b[0m\n\u001b[1;32m--> 404\u001b[1;33m             self._raise_timeout(err=e, url=url, timeout_value=read_timeout,\n\u001b[0m\u001b[0;32m    405\u001b[0m                                 exc_cls=ReadTimeoutError)\n",
      "\u001b[1;32m~\\anaconda3\\lib\\site-packages\\telegram\\vendor\\ptb_urllib3\\urllib3\\connectionpool.py\u001b[0m in \u001b[0;36m_raise_timeout\u001b[1;34m(self, err, url, timeout_value, exc_cls)\u001b[0m\n\u001b[0;32m    320\u001b[0m             \u001b[0margs\u001b[0m\u001b[1;33m.\u001b[0m\u001b[0mappend\u001b[0m\u001b[1;33m(\u001b[0m\u001b[1;34m\"%s timed out. (%s timeout=%s)\"\u001b[0m \u001b[1;33m%\u001b[0m \u001b[1;33m(\u001b[0m\u001b[0mdesc\u001b[0m\u001b[1;33m,\u001b[0m \u001b[0mdesc\u001b[0m\u001b[1;33m.\u001b[0m\u001b[0mlower\u001b[0m\u001b[1;33m(\u001b[0m\u001b[1;33m)\u001b[0m\u001b[1;33m,\u001b[0m \u001b[0mtimeout_value\u001b[0m\u001b[1;33m)\u001b[0m\u001b[1;33m)\u001b[0m\u001b[1;33m\u001b[0m\u001b[1;33m\u001b[0m\u001b[0m\n\u001b[1;32m--> 321\u001b[1;33m             \u001b[1;32mraise\u001b[0m \u001b[0mexc_cls\u001b[0m\u001b[1;33m(\u001b[0m\u001b[1;33m*\u001b[0m\u001b[0margs\u001b[0m\u001b[1;33m)\u001b[0m\u001b[1;33m\u001b[0m\u001b[1;33m\u001b[0m\u001b[0m\n\u001b[0m\u001b[0;32m    322\u001b[0m \u001b[1;33m\u001b[0m\u001b[0m\n",
      "\u001b[1;31mReadTimeoutError\u001b[0m: HTTPSConnectionPool(host='api.telegram.org', port=443): Read timed out. (read timeout=2.0)",
      "\nThe above exception was the direct cause of the following exception:\n",
      "\u001b[1;31mTimedOut\u001b[0m                                  Traceback (most recent call last)",
      "\u001b[1;32m<ipython-input-9-844385570317>\u001b[0m in \u001b[0;36m<module>\u001b[1;34m\u001b[0m\n\u001b[0;32m      6\u001b[0m \u001b[0mprint\u001b[0m\u001b[1;33m(\u001b[0m\u001b[1;34m\"-\"\u001b[0m\u001b[1;33m)\u001b[0m\u001b[1;33m\u001b[0m\u001b[1;33m\u001b[0m\u001b[0m\n\u001b[0;32m      7\u001b[0m \u001b[1;31m#print(response['result'][5]['message']['voice']['file_id'])\u001b[0m\u001b[1;33m\u001b[0m\u001b[1;33m\u001b[0m\u001b[1;33m\u001b[0m\u001b[0m\n\u001b[1;32m----> 8\u001b[1;33m \u001b[0mbot\u001b[0m\u001b[1;33m.\u001b[0m\u001b[0mgetUpdates\u001b[0m\u001b[1;33m(\u001b[0m\u001b[1;33m)\u001b[0m\u001b[1;33m[\u001b[0m\u001b[1;36m2\u001b[0m\u001b[1;33m]\u001b[0m\u001b[1;33m.\u001b[0m\u001b[0mmessage\u001b[0m\u001b[1;33m.\u001b[0m\u001b[0mvoice\u001b[0m\u001b[1;33m.\u001b[0m\u001b[0mfile_id\u001b[0m\u001b[1;33m\u001b[0m\u001b[1;33m\u001b[0m\u001b[0m\n\u001b[0m",
      "\u001b[1;32m~\\anaconda3\\lib\\site-packages\\telegram\\bot.py\u001b[0m in \u001b[0;36mdecorator\u001b[1;34m(*args, **kwargs)\u001b[0m\n\u001b[0;32m    125\u001b[0m     \u001b[1;32mdef\u001b[0m \u001b[0mdecorator\u001b[0m\u001b[1;33m(\u001b[0m\u001b[1;33m*\u001b[0m\u001b[0margs\u001b[0m\u001b[1;33m:\u001b[0m \u001b[0mobject\u001b[0m\u001b[1;33m,\u001b[0m \u001b[1;33m**\u001b[0m\u001b[0mkwargs\u001b[0m\u001b[1;33m:\u001b[0m \u001b[0mobject\u001b[0m\u001b[1;33m)\u001b[0m \u001b[1;33m->\u001b[0m \u001b[0mRT\u001b[0m\u001b[1;33m:\u001b[0m  \u001b[1;31m# pylint: disable=W0613\u001b[0m\u001b[1;33m\u001b[0m\u001b[1;33m\u001b[0m\u001b[0m\n\u001b[0;32m    126\u001b[0m         \u001b[0mlogger\u001b[0m\u001b[1;33m.\u001b[0m\u001b[0mdebug\u001b[0m\u001b[1;33m(\u001b[0m\u001b[1;34m'Entering: %s'\u001b[0m\u001b[1;33m,\u001b[0m \u001b[0mfunc\u001b[0m\u001b[1;33m.\u001b[0m\u001b[0m__name__\u001b[0m\u001b[1;33m)\u001b[0m\u001b[1;33m\u001b[0m\u001b[1;33m\u001b[0m\u001b[0m\n\u001b[1;32m--> 127\u001b[1;33m         \u001b[0mresult\u001b[0m \u001b[1;33m=\u001b[0m \u001b[0mfunc\u001b[0m\u001b[1;33m(\u001b[0m\u001b[1;33m*\u001b[0m\u001b[0margs\u001b[0m\u001b[1;33m,\u001b[0m \u001b[1;33m**\u001b[0m\u001b[0mkwargs\u001b[0m\u001b[1;33m)\u001b[0m\u001b[1;33m\u001b[0m\u001b[1;33m\u001b[0m\u001b[0m\n\u001b[0m\u001b[0;32m    128\u001b[0m         \u001b[0mlogger\u001b[0m\u001b[1;33m.\u001b[0m\u001b[0mdebug\u001b[0m\u001b[1;33m(\u001b[0m\u001b[0mresult\u001b[0m\u001b[1;33m)\u001b[0m\u001b[1;33m\u001b[0m\u001b[1;33m\u001b[0m\u001b[0m\n\u001b[0;32m    129\u001b[0m         \u001b[0mlogger\u001b[0m\u001b[1;33m.\u001b[0m\u001b[0mdebug\u001b[0m\u001b[1;33m(\u001b[0m\u001b[1;34m'Exiting: %s'\u001b[0m\u001b[1;33m,\u001b[0m \u001b[0mfunc\u001b[0m\u001b[1;33m.\u001b[0m\u001b[0m__name__\u001b[0m\u001b[1;33m)\u001b[0m\u001b[1;33m\u001b[0m\u001b[1;33m\u001b[0m\u001b[0m\n",
      "\u001b[1;32m~\\anaconda3\\lib\\site-packages\\telegram\\bot.py\u001b[0m in \u001b[0;36mget_updates\u001b[1;34m(self, offset, limit, timeout, read_latency, allowed_updates, api_kwargs)\u001b[0m\n\u001b[0;32m   2759\u001b[0m         \u001b[1;31m#   waiting for the server to return and there's no way of knowing the connection had been\u001b[0m\u001b[1;33m\u001b[0m\u001b[1;33m\u001b[0m\u001b[1;33m\u001b[0m\u001b[0m\n\u001b[0;32m   2760\u001b[0m         \u001b[1;31m#   dropped in real time.\u001b[0m\u001b[1;33m\u001b[0m\u001b[1;33m\u001b[0m\u001b[1;33m\u001b[0m\u001b[0m\n\u001b[1;32m-> 2761\u001b[1;33m         result = self._post(\n\u001b[0m\u001b[0;32m   2762\u001b[0m             \u001b[1;34m'getUpdates'\u001b[0m\u001b[1;33m,\u001b[0m \u001b[0mdata\u001b[0m\u001b[1;33m,\u001b[0m \u001b[0mtimeout\u001b[0m\u001b[1;33m=\u001b[0m\u001b[0mfloat\u001b[0m\u001b[1;33m(\u001b[0m\u001b[0mread_latency\u001b[0m\u001b[1;33m)\u001b[0m \u001b[1;33m+\u001b[0m \u001b[0mfloat\u001b[0m\u001b[1;33m(\u001b[0m\u001b[0mtimeout\u001b[0m\u001b[1;33m)\u001b[0m\u001b[1;33m,\u001b[0m \u001b[0mapi_kwargs\u001b[0m\u001b[1;33m=\u001b[0m\u001b[0mapi_kwargs\u001b[0m\u001b[1;33m\u001b[0m\u001b[1;33m\u001b[0m\u001b[0m\n\u001b[0;32m   2763\u001b[0m         )\n",
      "\u001b[1;32m~\\anaconda3\\lib\\site-packages\\telegram\\bot.py\u001b[0m in \u001b[0;36m_post\u001b[1;34m(self, endpoint, data, timeout, api_kwargs)\u001b[0m\n\u001b[0;32m    257\u001b[0m         \u001b[0mdata\u001b[0m \u001b[1;33m=\u001b[0m \u001b[1;33m{\u001b[0m\u001b[0mkey\u001b[0m\u001b[1;33m:\u001b[0m \u001b[0mvalue\u001b[0m \u001b[1;32mfor\u001b[0m \u001b[0mkey\u001b[0m\u001b[1;33m,\u001b[0m \u001b[0mvalue\u001b[0m \u001b[1;32min\u001b[0m \u001b[0mdata\u001b[0m\u001b[1;33m.\u001b[0m\u001b[0mitems\u001b[0m\u001b[1;33m(\u001b[0m\u001b[1;33m)\u001b[0m \u001b[1;32mif\u001b[0m \u001b[0mvalue\u001b[0m \u001b[1;32mis\u001b[0m \u001b[1;32mnot\u001b[0m \u001b[1;32mNone\u001b[0m\u001b[1;33m}\u001b[0m\u001b[1;33m\u001b[0m\u001b[1;33m\u001b[0m\u001b[0m\n\u001b[0;32m    258\u001b[0m \u001b[1;33m\u001b[0m\u001b[0m\n\u001b[1;32m--> 259\u001b[1;33m         return self.request.post(\n\u001b[0m\u001b[0;32m    260\u001b[0m             \u001b[1;34mf'{self.base_url}/{endpoint}'\u001b[0m\u001b[1;33m,\u001b[0m \u001b[0mdata\u001b[0m\u001b[1;33m=\u001b[0m\u001b[0mdata\u001b[0m\u001b[1;33m,\u001b[0m \u001b[0mtimeout\u001b[0m\u001b[1;33m=\u001b[0m\u001b[0meffective_timeout\u001b[0m\u001b[1;33m\u001b[0m\u001b[1;33m\u001b[0m\u001b[0m\n\u001b[0;32m    261\u001b[0m         )\n",
      "\u001b[1;32m~\\anaconda3\\lib\\site-packages\\telegram\\utils\\request.py\u001b[0m in \u001b[0;36mpost\u001b[1;34m(self, url, data, timeout)\u001b[0m\n\u001b[0;32m    348\u001b[0m             \u001b[0mresult\u001b[0m \u001b[1;33m=\u001b[0m \u001b[0mself\u001b[0m\u001b[1;33m.\u001b[0m\u001b[0m_request_wrapper\u001b[0m\u001b[1;33m(\u001b[0m\u001b[1;34m'POST'\u001b[0m\u001b[1;33m,\u001b[0m \u001b[0murl\u001b[0m\u001b[1;33m,\u001b[0m \u001b[0mfields\u001b[0m\u001b[1;33m=\u001b[0m\u001b[0mdata\u001b[0m\u001b[1;33m,\u001b[0m \u001b[1;33m**\u001b[0m\u001b[0murlopen_kwargs\u001b[0m\u001b[1;33m)\u001b[0m\u001b[1;33m\u001b[0m\u001b[1;33m\u001b[0m\u001b[0m\n\u001b[0;32m    349\u001b[0m         \u001b[1;32melse\u001b[0m\u001b[1;33m:\u001b[0m\u001b[1;33m\u001b[0m\u001b[1;33m\u001b[0m\u001b[0m\n\u001b[1;32m--> 350\u001b[1;33m             result = self._request_wrapper(\n\u001b[0m\u001b[0;32m    351\u001b[0m                 \u001b[1;34m'POST'\u001b[0m\u001b[1;33m,\u001b[0m\u001b[1;33m\u001b[0m\u001b[1;33m\u001b[0m\u001b[0m\n\u001b[0;32m    352\u001b[0m                 \u001b[0murl\u001b[0m\u001b[1;33m,\u001b[0m\u001b[1;33m\u001b[0m\u001b[1;33m\u001b[0m\u001b[0m\n",
      "\u001b[1;32m~\\anaconda3\\lib\\site-packages\\telegram\\utils\\request.py\u001b[0m in \u001b[0;36m_request_wrapper\u001b[1;34m(self, *args, **kwargs)\u001b[0m\n\u001b[0;32m    253\u001b[0m             \u001b[0mresp\u001b[0m \u001b[1;33m=\u001b[0m \u001b[0mself\u001b[0m\u001b[1;33m.\u001b[0m\u001b[0m_con_pool\u001b[0m\u001b[1;33m.\u001b[0m\u001b[0mrequest\u001b[0m\u001b[1;33m(\u001b[0m\u001b[1;33m*\u001b[0m\u001b[0margs\u001b[0m\u001b[1;33m,\u001b[0m \u001b[1;33m**\u001b[0m\u001b[0mkwargs\u001b[0m\u001b[1;33m)\u001b[0m\u001b[1;33m\u001b[0m\u001b[1;33m\u001b[0m\u001b[0m\n\u001b[0;32m    254\u001b[0m         \u001b[1;32mexcept\u001b[0m \u001b[0murllib3\u001b[0m\u001b[1;33m.\u001b[0m\u001b[0mexceptions\u001b[0m\u001b[1;33m.\u001b[0m\u001b[0mTimeoutError\u001b[0m \u001b[1;32mas\u001b[0m \u001b[0merror\u001b[0m\u001b[1;33m:\u001b[0m\u001b[1;33m\u001b[0m\u001b[1;33m\u001b[0m\u001b[0m\n\u001b[1;32m--> 255\u001b[1;33m             \u001b[1;32mraise\u001b[0m \u001b[0mTimedOut\u001b[0m\u001b[1;33m(\u001b[0m\u001b[1;33m)\u001b[0m \u001b[1;32mfrom\u001b[0m \u001b[0merror\u001b[0m\u001b[1;33m\u001b[0m\u001b[1;33m\u001b[0m\u001b[0m\n\u001b[0m\u001b[0;32m    256\u001b[0m         \u001b[1;32mexcept\u001b[0m \u001b[0murllib3\u001b[0m\u001b[1;33m.\u001b[0m\u001b[0mexceptions\u001b[0m\u001b[1;33m.\u001b[0m\u001b[0mHTTPError\u001b[0m \u001b[1;32mas\u001b[0m \u001b[0merror\u001b[0m\u001b[1;33m:\u001b[0m\u001b[1;33m\u001b[0m\u001b[1;33m\u001b[0m\u001b[0m\n\u001b[0;32m    257\u001b[0m             \u001b[1;31m# HTTPError must come last as its the base urllib3 exception class\u001b[0m\u001b[1;33m\u001b[0m\u001b[1;33m\u001b[0m\u001b[1;33m\u001b[0m\u001b[0m\n",
      "\u001b[1;31mTimedOut\u001b[0m: Timed out"
     ]
    }
   ],
   "source": [
    "import requests\n",
    "\n",
    "URL = 'https://api.telegram.org/bot1854272659:AAHvLiFo6ecRABj0Kb7Wk6NEkCeqnO9RaMQ/getUpdates'\n",
    "response = requests.get(URL).json()\n",
    "print(response)\n",
    "print(\"-\")\n",
    "#print(response['result'][5]['message']['voice']['file_id'])\n",
    "bot.getUpdates()[2].message.voice.file_id"
   ]
  },
  {
   "cell_type": "code",
   "execution_count": 44,
   "id": "44676b8e",
   "metadata": {},
   "outputs": [
    {
     "name": "stdout",
     "output_type": "stream",
     "text": [
      "음성파일이 존재하지 않습니다.\n",
      "음성파일이 존재하지 않습니다.\n",
      "AwACAgUAAxkBAAIBeWC50GEHbQJO_wWV_qyPVHKmiHnUAALlAQACyUbRVeo5PPZuIHglHwQ\n"
     ]
    }
   ],
   "source": [
    "for data in bot.getUpdates():\n",
    "    try:\n",
    "        print(data.message.voice.file_id)\n",
    "    except AttributeError:\n",
    "        print(\"음성파일이 존재하지 않습니다.\")\n",
    "        pass"
   ]
  },
  {
   "cell_type": "code",
   "execution_count": 8,
   "id": "99ad1c26",
   "metadata": {},
   "outputs": [],
   "source": [
    "updater.stop()"
   ]
  },
  {
   "cell_type": "code",
   "execution_count": 7,
   "id": "7410c688",
   "metadata": {},
   "outputs": [
    {
     "name": "stderr",
     "output_type": "stream",
     "text": [
      "Exception in thread Thread-13:\n",
      "Traceback (most recent call last):\n",
      "  File \"C:\\Users\\020\\anaconda3\\lib\\threading.py\", line 932, in _bootstrap_inner\n",
      "    self.run()\n",
      "  File \"C:\\Users\\020\\anaconda3\\lib\\threading.py\", line 1254, in run\n",
      "    self.function(*self.args, **self.kwargs)\n",
      "  File \"<ipython-input-7-0aadaa67aefd>\", line 24, in runUpdate\n",
      "  File \"<ipython-input-7-0aadaa67aefd>\", line 105, in index\n",
      "KeyError: 'username'\n",
      "Exception in thread Thread-20:\n",
      "Traceback (most recent call last):\n",
      "  File \"C:\\Users\\020\\anaconda3\\lib\\threading.py\", line 932, in _bootstrap_inner\n",
      "    self.run()\n",
      "  File \"C:\\Users\\020\\anaconda3\\lib\\threading.py\", line 1254, in run\n",
      "    self.function(*self.args, **self.kwargs)\n",
      "  File \"<ipython-input-7-0aadaa67aefd>\", line 24, in runUpdate\n",
      "  File \"<ipython-input-7-0aadaa67aefd>\", line 105, in index\n",
      "KeyError: 'username'\n"
     ]
    }
   ],
   "source": [
    "#python3, speech to text, telegram-bot-api, simple responsive bot\n",
    "\n",
    "#1. record voice in telegram bot\n",
    "#2. download and save this ogg file\n",
    "#3. convert into .wav\n",
    "#4. recognize .wav into text\n",
    "#5. send to telegram bot as a response\n",
    "#               \n",
    "from dotenv import load_dotenv   #for python-dotenv method\n",
    "import requests, json, os, threading, pyttsx3, time\n",
    "\n",
    "load_dotenv()                    #for python-dotenv method\n",
    "my_token = '1854272659:AAHvLiFo6ecRABj0Kb7Wk6NEkCeqnO9RaMQ'\n",
    "class TelegramBot:\n",
    "    def __init__(self):\n",
    "        self.__YOURAPIKEY = my_token\n",
    "        self.__URL = f\"https://api.telegram.org/bot{self.__YOURAPIKEY}/\"\n",
    "        self.__last_update_id = 0\n",
    "        self.__setLastUpdate()\n",
    "    \n",
    "    def runUpdate(self):\n",
    "        #process updates every 3 seconds\n",
    "        threading.Timer(3.0, self.runUpdate).start()\n",
    "        self.index()\n",
    "\n",
    "    #online version is provided by google cloud services and not free\n",
    "        #use paid services for commercial projects\n",
    "        #https://scriptverse.academy/tutorials/python-text-to-speech.html\n",
    "    #offline version - low quality, but stable\n",
    "        #use offline version for testing purposes\n",
    "    def generateVoice(self, text):\n",
    "        #https://pypi.org/project/pyttsx3/\n",
    "        engine = pyttsx3.init()\n",
    "        engine.setProperty('rate', 125)     # setting up new voice rate\n",
    "\n",
    "        # On linux make sure that 'espeak' and 'ffmpeg' are installed\n",
    "        engine.save_to_file(text, 'tutorial4.mp3')\n",
    "        engine.runAndWait()\n",
    "        time.sleep(5)\n",
    "        return 'tutorial4.mp3'\n",
    "\n",
    "    def __setLastUpdate(self):\n",
    "        #not to send two responses\n",
    "        response = requests.get(self.__URL + \"getUpdates\").json()\n",
    "        result = response['result']\n",
    "        if len(result) > 0:\n",
    "            self.__last_update_id = result[len(result)-1]['update_id']\n",
    "            \n",
    "    def __letters(self, input):\n",
    "        return \"\".join([x for x in input if x.isalpha() or x == ' '])\n",
    "        #return ''.join(filter(str.isalpha, input))\n",
    "\n",
    "    def speechToText(self, file_name):\n",
    "        import speech_recognition as sr \n",
    "\n",
    "        from os import path\n",
    "        #pip3 install pydub\n",
    "        from pydub import AudioSegment\n",
    "\n",
    "        # files                                                                         \n",
    "        src = f\"{file_name}\"\n",
    "        dst = f\"{file_name}.wav\"\n",
    "\n",
    "        # convert wav to mp3     \n",
    "        # https://pythonbasics.org/convert-mp3-to-wav/                                                       \n",
    "        sound = AudioSegment.from_ogg(src)\n",
    "        sound.export(dst, format=\"wav\")\n",
    "        \n",
    "        \n",
    "        #https://pypi.org/project/SpeechRecognition/\n",
    "\n",
    "        # Initialize the recognizer  \n",
    "        r = sr.Recognizer()  \n",
    "\n",
    "        AUDIO_FILE = f\"{file_name}.wav\"\n",
    "        with sr.AudioFile(AUDIO_FILE) as source:\n",
    "            audio2 = r.record(source)  # read the entire audio file\n",
    "            #pip3 install pocketsphinx\n",
    "            # Using ggogle to recognize audio \n",
    "            #MyText = r.recognize_google(audio2) \n",
    "            MyText = r.recognize_sphinx(audio2) \n",
    "            MyText = MyText.lower() \n",
    "            return MyText\n",
    "        return -1\n",
    "            \n",
    "    def index(self):\n",
    "        offset = self.__last_update_id + 1\n",
    "        \n",
    "        response = requests.get(self.__URL + \"getUpdates?offset={offset}\").json()\n",
    "        result = response['result']\n",
    "\n",
    "        if len(result) > 0:\n",
    "            #respond to all new messages, and save the last update_id to the session\n",
    "            for update in result:\n",
    "                update_id = update['update_id']\n",
    "                if(update_id > self.__last_update_id):\n",
    "                    #line below should be here, otherwise bot sends us more than one replies, \n",
    "                    # because code doesn't catch up with the logic sometimes \n",
    "                    self.__last_update_id = update_id\n",
    "                    #print(\"new update\")\n",
    "\n",
    "                    message         = update['message']\n",
    "                    chat_id         = message['chat']['id']\n",
    "                    first_name      = message['chat']['first_name']\n",
    "                    username        = message['chat']['username']\n",
    "                    print(update_id)\n",
    "                    if(\"voice\" in message):\n",
    "                        print(message)\n",
    "\n",
    "                        #https://api.telegram.org/file/bot<token>/<file_path>\n",
    "                        #getFile file_id\n",
    "                        \n",
    "                        #for add. info\n",
    "                        #https://core.telegram.org/bots/api\n",
    "\n",
    "                        file_id = message['voice']['file_id']\n",
    "                        getFile = requests.get(f'{self.__URL}getFile?file_id={file_id}').json()\n",
    "                        file_path = getFile['result']['file_path']\n",
    "                        voice_url = f\"https://api.telegram.org/file/bot{self.__YOURAPIKEY}/{file_path}\"\n",
    "                        #print(voice_url)\n",
    "                        #answer = f\"You have just sent a voice: = {voice_url}\"\n",
    "\n",
    "                        #downloads the image frorm telegram\n",
    "                        import urllib.request \n",
    "                        urllib.request.urlretrieve(voice_url, \"tutorial4.ogg\")\n",
    "                        \n",
    "                        ready_text = self.speechToText('tutorial4.ogg')\n",
    "\n",
    "                        response = requests.get(f'{self.__URL}sendMessage?chat_id={chat_id}&text={ready_text}&parse_mode=HTML')\n",
    "\n",
    "                        #send a voice message\n",
    "                        file_name = self.generateVoice(ready_text)\n",
    "                        files = {'voice': open(file_name, 'rb')}\n",
    "                        print(requests.post(f'{self.__URL}sendVoice?chat_id={chat_id}', files=files).json())\n",
    "\n",
    "        return 0\n",
    "\n",
    "telegramBot = TelegramBot()\n",
    "telegramBot.runUpdate()"
   ]
  },
  {
   "cell_type": "code",
   "execution_count": 6,
   "id": "47fb9caf",
   "metadata": {},
   "outputs": [
    {
     "ename": "IndexError",
     "evalue": "list index out of range",
     "output_type": "error",
     "traceback": [
      "\u001b[1;31m---------------------------------------------------------------------------\u001b[0m",
      "\u001b[1;31mIndexError\u001b[0m                                Traceback (most recent call last)",
      "\u001b[1;32m<ipython-input-6-03dce73129c6>\u001b[0m in \u001b[0;36m<module>\u001b[1;34m\u001b[0m\n\u001b[0;32m      6\u001b[0m \u001b[0mresponse\u001b[0m \u001b[1;33m=\u001b[0m \u001b[0mrequests\u001b[0m\u001b[1;33m.\u001b[0m\u001b[0mget\u001b[0m\u001b[1;33m(\u001b[0m\u001b[0mURL\u001b[0m\u001b[1;33m)\u001b[0m\u001b[1;33m.\u001b[0m\u001b[0mjson\u001b[0m\u001b[1;33m(\u001b[0m\u001b[1;33m)\u001b[0m\u001b[1;33m\u001b[0m\u001b[1;33m\u001b[0m\u001b[0m\n\u001b[0;32m      7\u001b[0m \u001b[0mresult\u001b[0m \u001b[1;33m=\u001b[0m \u001b[0mresponse\u001b[0m\u001b[1;33m[\u001b[0m\u001b[1;34m'result'\u001b[0m\u001b[1;33m]\u001b[0m\u001b[1;33m\u001b[0m\u001b[1;33m\u001b[0m\u001b[0m\n\u001b[1;32m----> 8\u001b[1;33m \u001b[0mfile_name\u001b[0m\u001b[1;33m=\u001b[0m\u001b[0mresponse\u001b[0m\u001b[1;33m[\u001b[0m\u001b[1;34m'result'\u001b[0m\u001b[1;33m]\u001b[0m\u001b[1;33m[\u001b[0m\u001b[1;36m0\u001b[0m\u001b[1;33m]\u001b[0m\u001b[1;33m[\u001b[0m\u001b[1;34m'message'\u001b[0m\u001b[1;33m]\u001b[0m\u001b[1;33m[\u001b[0m\u001b[1;34m'voice'\u001b[0m\u001b[1;33m]\u001b[0m\u001b[1;33m[\u001b[0m\u001b[1;34m'file_id'\u001b[0m\u001b[1;33m]\u001b[0m\u001b[1;33m\u001b[0m\u001b[1;33m\u001b[0m\u001b[0m\n\u001b[0m",
      "\u001b[1;31mIndexError\u001b[0m: list index out of range"
     ]
    }
   ],
   "source": [
    "import requests\n",
    "URL = 'https://api.telegram.org/bot1854272659:AAHvLiFo6ecRABj0Kb7Wk6NEkCeqnO9RaMQ/getUpdates'\n",
    "#response = requests.get(URL)\n",
    "# response.status_code\n",
    "# response.text\n",
    "response = requests.get(URL).json()\n",
    "result = response['result']\n",
    "file_name=response['result'][0]['message']['voice']['file_id']"
   ]
  },
  {
   "cell_type": "code",
   "execution_count": 10,
   "id": "5f1bca5a",
   "metadata": {},
   "outputs": [
    {
     "data": {
      "text/plain": [
       "<telegram.files.file.File at 0x1e8f4d31310>"
      ]
     },
     "execution_count": 10,
     "metadata": {},
     "output_type": "execute_result"
    }
   ],
   "source": [
    "voice = bot.getFile(file_name)\n",
    "voice"
   ]
  },
  {
   "cell_type": "code",
   "execution_count": 41,
   "id": "20b85b77",
   "metadata": {},
   "outputs": [
    {
     "data": {
      "text/plain": [
       "'file.ogg'"
      ]
     },
     "execution_count": 41,
     "metadata": {},
     "output_type": "execute_result"
    }
   ],
   "source": [
    "voice.download('file.ogg')"
   ]
  },
  {
   "cell_type": "code",
   "execution_count": 1,
   "id": "ab18fef1",
   "metadata": {},
   "outputs": [],
   "source": [
    "from os import path\n",
    "from pydub import AudioSegment\n",
    "import pydub"
   ]
  },
  {
   "cell_type": "code",
   "execution_count": 4,
   "id": "fbe992e7",
   "metadata": {},
   "outputs": [
    {
     "data": {
      "text/plain": [
       "<_io.BufferedRandom name='output.wav'>"
      ]
     },
     "execution_count": 4,
     "metadata": {},
     "output_type": "execute_result"
    }
   ],
   "source": [
    "#pydub.AudioSegment.ffmpeg = \"/absolute/path/to/ffmpeg\"\n",
    "ogg_version = AudioSegment.from_ogg(\"C:/Users/020/Documents/Gil Han byeol/telegram/file.ogg\")\n",
    "ogg_version.export('output.wav', format=\"wav\")"
   ]
  },
  {
   "cell_type": "code",
   "execution_count": 23,
   "id": "c02087c3",
   "metadata": {},
   "outputs": [
    {
     "data": {
      "text/plain": [
       "{'ok': True,\n",
       " 'result': [{'update_id': 970642990,\n",
       "   'message': {'message_id': 207,\n",
       "    'from': {'id': 1783222002,\n",
       "     'is_bot': False,\n",
       "     'first_name': '한별',\n",
       "     'language_code': 'ko'},\n",
       "    'chat': {'id': 1783222002, 'first_name': '한별', 'type': 'private'},\n",
       "    'date': 1622730810,\n",
       "    'voice': {'duration': 3,\n",
       "     'mime_type': 'audio/ogg',\n",
       "     'file_id': 'AwACAgUAAxkBAAPPYLjoOkIz2m_a7wwqoI8wrBVPbX8AAnQDAALDU8FVmuwxDuBVjX8fBA',\n",
       "     'file_unique_id': 'AgADdAMAAsNTwVU',\n",
       "     'file_size': 15268}}}]}"
      ]
     },
     "execution_count": 23,
     "metadata": {},
     "output_type": "execute_result"
    }
   ],
   "source": [
    "response = requests.get(URL).json()\n",
    "result = response['result']\n",
    "response"
   ]
  },
  {
   "cell_type": "code",
   "execution_count": 6,
   "id": "5647b50a",
   "metadata": {},
   "outputs": [
    {
     "ename": "ModuleNotFoundError",
     "evalue": "No module named 'prettytable'",
     "output_type": "error",
     "traceback": [
      "\u001b[1;31m---------------------------------------------------------------------------\u001b[0m",
      "\u001b[1;31mModuleNotFoundError\u001b[0m                       Traceback (most recent call last)",
      "\u001b[1;32m<ipython-input-6-eed22d99988c>\u001b[0m in \u001b[0;36m<module>\u001b[1;34m\u001b[0m\n\u001b[1;32m----> 1\u001b[1;33m \u001b[1;32mimport\u001b[0m \u001b[0mprettytable\u001b[0m \u001b[1;32mas\u001b[0m \u001b[0mpt\u001b[0m\u001b[1;33m\u001b[0m\u001b[1;33m\u001b[0m\u001b[0m\n\u001b[0m\u001b[0;32m      2\u001b[0m \u001b[1;32mfrom\u001b[0m \u001b[0mtelegram\u001b[0m \u001b[1;32mimport\u001b[0m \u001b[0mParseMode\u001b[0m\u001b[1;33m\u001b[0m\u001b[1;33m\u001b[0m\u001b[0m\n\u001b[0;32m      3\u001b[0m \u001b[1;32mfrom\u001b[0m \u001b[0mtelegram\u001b[0m\u001b[1;33m.\u001b[0m\u001b[0mext\u001b[0m \u001b[1;32mimport\u001b[0m \u001b[0mCallbackContext\u001b[0m\u001b[1;33m,\u001b[0m \u001b[0mUpdater\u001b[0m\u001b[1;33m\u001b[0m\u001b[1;33m\u001b[0m\u001b[0m\n\u001b[0;32m      4\u001b[0m \u001b[1;33m\u001b[0m\u001b[0m\n\u001b[0;32m      5\u001b[0m \u001b[1;33m\u001b[0m\u001b[0m\n",
      "\u001b[1;31mModuleNotFoundError\u001b[0m: No module named 'prettytable'"
     ]
    }
   ],
   "source": [
    "import prettytable as pt\n",
    "from telegram import ParseMode\n",
    "from telegram.ext import CallbackContext, Updater\n",
    "\n",
    "\n",
    "def send_table(update: Updater, context: CallbackContext):\n",
    "    table = pt.PrettyTable(['Symbol', 'Price', 'Change'])\n",
    "    table.align['Symbol'] = 'l'\n",
    "    table.align['Price'] = 'r'\n",
    "    table.align['Change'] = 'r'\n",
    "\n",
    "    data = [\n",
    "        ('ABC', 20.85, 1.626),\n",
    "        ('DEF', 78.95, 0.099),\n",
    "        ('GHI', 23.45, 0.192),\n",
    "        ('JKL', 98.85, 0.292),\n",
    "    ]\n",
    "    for symbol, price, change in data:\n",
    "        table.add_row([symbol, f'{price:.2f}', f'{change:.3f}'])\n",
    "\n",
    "    update.message.reply_text(f'<pre>{table}</pre>', parse_mode=ParseMode.HTML)\n",
    "    # or use markdown\n",
    "    update.message.reply_text(f'```{table}```', parse_mode=ParseMode.MARKDOWN_V2)"
   ]
  },
  {
   "cell_type": "code",
   "execution_count": null,
   "id": "15135bfd",
   "metadata": {},
   "outputs": [],
   "source": []
  }
 ],
 "metadata": {
  "kernelspec": {
   "display_name": "Python 3",
   "language": "python",
   "name": "python3"
  },
  "language_info": {
   "codemirror_mode": {
    "name": "ipython",
    "version": 3
   },
   "file_extension": ".py",
   "mimetype": "text/x-python",
   "name": "python",
   "nbconvert_exporter": "python",
   "pygments_lexer": "ipython3",
   "version": "3.8.5"
  }
 },
 "nbformat": 4,
 "nbformat_minor": 5
}
